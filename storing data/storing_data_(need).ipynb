{
 "cells": [
  {
   "attachments": {},
   "cell_type": "markdown",
   "id": "123456",
   "metadata": {},
   "source": [
    "<div style=\"text-align:left;font-size:2em\"><span style=\"font-weight:bolder;font-size:1.25em\">SP2273 | Learning Portfolio</span><br><br><span style=\"font-weight:bold;color:darkred\">Storing Data (Need)</span></div>"
   ]
  },
  {
   "attachments": {},
   "cell_type": "markdown",
   "id": "438a6051",
   "metadata": {},
   "source": [
    "# What to expect in this chapter"
   ]
  },
  {
   "attachments": {},
   "cell_type": "markdown",
   "id": "1e98c00a",
   "metadata": {},
   "source": [
    "# Lists, Arrays & Dictionaries"
   ]
  },
  {
   "attachments": {},
   "cell_type": "markdown",
   "id": "06d158c6",
   "metadata": {},
   "source": [
    "## Let’s compare"
   ]
  },
  {
   "cell_type": "code",
   "execution_count": 1,
   "id": "5ef1750c-1024-4a55-954e-7178f859a603",
   "metadata": {},
   "outputs": [],
   "source": [
    "py_super_names = [\"Black Widow\", \"Iron Man\", \"Doctor Strange\"]\n",
    "py_real_names = [\"Natasha Romanoff\", \"Tony Stark\", \"Stephen Strange\"]"
   ]
  },
  {
   "cell_type": "code",
   "execution_count": 2,
   "id": "23e999fa-0a71-4db9-9be8-a584ac87440e",
   "metadata": {},
   "outputs": [],
   "source": [
    "import numpy as np\n",
    "\n",
    "np_super_names = np.array([\"Black Widow\", \"Iron Man\", \"Doctor Strange\"])\n",
    "np_real_names = np.array([\"Natasha Romanoff\", \"Tony Stark\", \"Stephen Strange\"])"
   ]
  },
  {
   "cell_type": "code",
   "execution_count": 3,
   "id": "25f7f7e0-7ea2-4b38-9efd-6b32fdb67b9e",
   "metadata": {},
   "outputs": [],
   "source": [
    "superhero_info = {\n",
    "    \"Natasha Romanoff\": \"Black Widow\",\n",
    "    \"Tony Stark\": \"Iron Man\",\n",
    "    \"Stephen Strange\": \"Doctor Strange\"\n",
    "}"
   ]
  },
  {
   "cell_type": "markdown",
   "id": "91e19a4e-4ead-48a9-bedd-32c71b74331f",
   "metadata": {},
   "source": [
    "py and np added in front of the variable for clarity. \n",
    "can choose any name for the variables (provided that they are not a Python keyword like for, if)."
   ]
  },
  {
   "attachments": {},
   "cell_type": "markdown",
   "id": "b0494631",
   "metadata": {},
   "source": [
    "## Accessing data from a list (or array)"
   ]
  },
  {
   "cell_type": "markdown",
   "id": "3c4651ff-de7e-481a-9f70-7bb62405ab9b",
   "metadata": {},
   "source": [
    "### Python is a zero-indexed language, meaning it starts counting at 0. So if you want to access a particular element in the list (or array), you need to specify the relevant index starting from zero."
   ]
  },
  {
   "cell_type": "code",
   "execution_count": 4,
   "id": "049295f3-f248-4e1e-904f-cb86d11bfb7f",
   "metadata": {},
   "outputs": [
    {
     "data": {
      "text/plain": [
       "'Natasha Romanoff'"
      ]
     },
     "execution_count": 4,
     "metadata": {},
     "output_type": "execute_result"
    }
   ],
   "source": [
    "py_super_names = [\"Black Widow\", \"Iron Man\", \"Doctor Strange\"]\n",
    "py_real_names = [\"Natasha Romanoff\", \"Tony Stark\", \"Stephen Strange\"]\n",
    "\n",
    "py_real_names[0]"
   ]
  },
  {
   "cell_type": "code",
   "execution_count": 5,
   "id": "1f8d2622-065e-49ea-b138-aad7debb7e6d",
   "metadata": {},
   "outputs": [
    {
     "data": {
      "text/plain": [
       "'Black Widow'"
      ]
     },
     "execution_count": 5,
     "metadata": {},
     "output_type": "execute_result"
    }
   ],
   "source": [
    "py_super_names = [\"Black Widow\", \"Iron Man\", \"Doctor Strange\"]\n",
    "py_real_names = [\"Natasha Romanoff\", \"Tony Stark\", \"Stephen Strange\"]\n",
    "\n",
    "py_super_names[0]"
   ]
  },
  {
   "cell_type": "markdown",
   "id": "b5cc5317-1c65-4eae-b41c-07c32b4b694c",
   "metadata": {},
   "source": [
    "Using a negative index allows us to count from the back of the list. For instance, using the index -1 will give the last element."
   ]
  },
  {
   "cell_type": "code",
   "execution_count": 6,
   "id": "3340dfd2-b9da-4bcc-80c8-ebb99a4867a8",
   "metadata": {},
   "outputs": [
    {
     "data": {
      "text/plain": [
       "'Doctor Strange'"
      ]
     },
     "execution_count": 6,
     "metadata": {},
     "output_type": "execute_result"
    }
   ],
   "source": [
    "py_super_names[2]    # Forward indexing \n",
    "                     # We need to know the size \n",
    "                     # beforehand for this to work.\n",
    "\n",
    "py_super_names[-1]   # Reverse indexing"
   ]
  },
  {
   "attachments": {},
   "cell_type": "markdown",
   "id": "58f9625f",
   "metadata": {},
   "source": [
    "## Accessing data from a dictionary"
   ]
  },
  {
   "cell_type": "markdown",
   "id": "8c122ef8-d9ee-4788-9def-a858c2812edd",
   "metadata": {},
   "source": [
    "### Remember that dictionaries have a key-value structure."
   ]
  },
  {
   "cell_type": "code",
   "execution_count": 7,
   "id": "418ce185-029a-4ef7-ab84-17f681e05046",
   "metadata": {},
   "outputs": [
    {
     "data": {
      "text/plain": [
       "'Black Widow'"
      ]
     },
     "execution_count": 7,
     "metadata": {},
     "output_type": "execute_result"
    }
   ],
   "source": [
    "superhero_info = {\n",
    "    \"Natasha Romanoff\": \"Black Widow\",\n",
    "    \"Tony Stark\": \"Iron Man\",\n",
    "    \"Stephen Strange\": \"Doctor Strange\"\n",
    "}                  \n",
    "\n",
    "superhero_info[\"Natasha Romanoff\"]"
   ]
  },
  {
   "attachments": {},
   "cell_type": "markdown",
   "id": "8c082528",
   "metadata": {},
   "source": [
    "## Higher dimensional lists (same intend as dictionary)"
   ]
  },
  {
   "cell_type": "code",
   "execution_count": 8,
   "id": "3a805542-6722-460a-9ac0-bd4e93e8079d",
   "metadata": {},
   "outputs": [],
   "source": [
    "py_superhero_info = [['Natasha Romanoff', 'Black Widow'],\n",
    "                     ['Tony Stark', 'Iron Man'],\n",
    "                     ['Stephen Strange', 'Doctor Strange']]"
   ]
  },
  {
   "attachments": {},
   "cell_type": "markdown",
   "id": "a8836773",
   "metadata": {},
   "source": [
    "# Lists vs. Arrays"
   ]
  },
  {
   "attachments": {},
   "cell_type": "markdown",
   "id": "2573f663",
   "metadata": {},
   "source": [
    "## Size"
   ]
  },
  {
   "cell_type": "code",
   "execution_count": 9,
   "id": "7a64768d-0bda-449d-b547-4242e59a79e0",
   "metadata": {},
   "outputs": [
    {
     "data": {
      "text/plain": [
       "(10, 2)"
      ]
     },
     "execution_count": 9,
     "metadata": {},
     "output_type": "execute_result"
    }
   ],
   "source": [
    "import numpy as np\n",
    "\n",
    "py_list_2d = [[1, \"A\"], [2, \"B\"], [3, \"C\"], [4, \"D\"],\n",
    "              [5, \"E\"], [6, \"F\"], [7, \"G\"], [8, \"H\"],\n",
    "              [9, \"I\"], [10, \"J\"]]\n",
    "\n",
    "np_array_2d = np.array(py_list_2d)      # Reusing the Python list \n",
    "                                        # to create a NEW\n",
    "                                        # NumPy array\n",
    "np_array_2d.shape\n",
    "\n",
    "# Notice the absence of brackets ( ) in shape above. This is because shape is not a function. Instead, it is a property or attribute of the NumPy array."
   ]
  },
  {
   "cell_type": "code",
   "execution_count": 10,
   "id": "c169e648-2e0d-4967-b69d-a4b7687ec0bc",
   "metadata": {},
   "outputs": [
    {
     "data": {
      "text/plain": [
       "10"
      ]
     },
     "execution_count": 10,
     "metadata": {},
     "output_type": "execute_result"
    }
   ],
   "source": [
    "len(py_list_2d)\n",
    "len(np_array_2d)"
   ]
  },
  {
   "attachments": {},
   "cell_type": "markdown",
   "id": "fbee5893",
   "metadata": {},
   "source": [
    "## Arrays are fussy about type"
   ]
  },
  {
   "cell_type": "code",
   "execution_count": 11,
   "id": "7000bf94-c8bf-4d82-9442-ddf15387ed6c",
   "metadata": {},
   "outputs": [],
   "source": [
    "py_list = [1, 1.5, 'A']\n",
    "np_array = np.array(py_list)"
   ]
  },
  {
   "cell_type": "code",
   "execution_count": 12,
   "id": "b1a06286-28e9-4aee-b0dd-2031c54ce1d8",
   "metadata": {},
   "outputs": [
    {
     "data": {
      "text/plain": [
       "[1, 1.5, 'A']"
      ]
     },
     "execution_count": 12,
     "metadata": {},
     "output_type": "execute_result"
    }
   ],
   "source": [
    "py_list"
   ]
  },
  {
   "cell_type": "code",
   "execution_count": 13,
   "id": "7b4209ea-40af-40d9-a4b3-639182b39a97",
   "metadata": {},
   "outputs": [
    {
     "data": {
      "text/plain": [
       "array(['1', '1.5', 'A'], dtype='<U32')"
      ]
     },
     "execution_count": 13,
     "metadata": {},
     "output_type": "execute_result"
    }
   ],
   "source": [
    "np_array"
   ]
  },
  {
   "attachments": {},
   "cell_type": "markdown",
   "id": "4df29abb",
   "metadata": {},
   "source": [
    "## Adding a number"
   ]
  },
  {
   "cell_type": "code",
   "execution_count": 14,
   "id": "2dc48b11-c37a-437c-bb93-6e9d0e23e38d",
   "metadata": {},
   "outputs": [
    {
     "ename": "TypeError",
     "evalue": "can only concatenate list (not \"int\") to list",
     "output_type": "error",
     "traceback": [
      "\u001b[0;31m---------------------------------------------------------------------------\u001b[0m",
      "\u001b[0;31mTypeError\u001b[0m                                 Traceback (most recent call last)",
      "Cell \u001b[0;32mIn[14], line 8\u001b[0m\n\u001b[1;32m      4\u001b[0m np_array \u001b[38;5;241m=\u001b[39m np\u001b[38;5;241m.\u001b[39marray(py_list)         \u001b[38;5;66;03m# Reusing the Python list\u001b[39;00m\n\u001b[1;32m      5\u001b[0m                                      \u001b[38;5;66;03m# to create a NEW\u001b[39;00m\n\u001b[1;32m      6\u001b[0m                                      \u001b[38;5;66;03m# NumPy array\u001b[39;00m\n\u001b[0;32m----> 8\u001b[0m \u001b[43mpy_list\u001b[49m\u001b[43m \u001b[49m\u001b[38;5;241;43m+\u001b[39;49m\u001b[43m \u001b[49m\u001b[38;5;241;43m10\u001b[39;49m        \u001b[38;5;66;03m# Won't work!\u001b[39;00m\n",
      "\u001b[0;31mTypeError\u001b[0m: can only concatenate list (not \"int\") to list"
     ]
    }
   ],
   "source": [
    "import numpy as np\n",
    "\n",
    "py_list = [1, 2, 3, 4, 5]\n",
    "np_array = np.array(py_list)         # Reusing the Python list\n",
    "                                     # to create a NEW\n",
    "                                     # NumPy array\n",
    "\n",
    "py_list + 10        # Won't work!"
   ]
  },
  {
   "cell_type": "code",
   "execution_count": null,
   "id": "593910dd-2981-4d84-8693-8de1dca7a41d",
   "metadata": {},
   "outputs": [
    {
     "data": {
      "text/plain": [
       "array([11, 12, 13, 14, 15])"
      ]
     },
     "execution_count": 18,
     "metadata": {},
     "output_type": "execute_result"
    }
   ],
   "source": [
    "import numpy as np\n",
    "\n",
    "py_list = [1, 2, 3, 4, 5]\n",
    "np_array = np.array(py_list)         # Reusing the Python list\n",
    "                                     # to create a NEW\n",
    "                                     # NumPy array\n",
    "np_array + 10"
   ]
  },
  {
   "attachments": {},
   "cell_type": "markdown",
   "id": "cf37d6d5",
   "metadata": {},
   "source": [
    "## Adding another list"
   ]
  },
  {
   "cell_type": "code",
   "execution_count": null,
   "id": "916cc72f-c2c8-49ed-85ee-7044f74f2d4a",
   "metadata": {},
   "outputs": [
    {
     "data": {
      "text/plain": [
       "[1, 2, 3, 4, 5, 10, 20, 30, 40, 50]"
      ]
     },
     "execution_count": 19,
     "metadata": {},
     "output_type": "execute_result"
    }
   ],
   "source": [
    "import numpy as np\n",
    "\n",
    "py_list_1 = [1, 2, 3, 4, 5]\n",
    "py_list_2 = [10, 20, 30, 40, 50]\n",
    "\n",
    "np_array_1 = np.array(py_list_1)\n",
    "np_array_2 = np.array(py_list_2)\n",
    "\n",
    "py_list_1 + py_list_2"
   ]
  },
  {
   "cell_type": "code",
   "execution_count": null,
   "id": "4443fb54-d68c-4a9e-a24c-aa6a928145cd",
   "metadata": {},
   "outputs": [
    {
     "data": {
      "text/plain": [
       "array([11, 22, 33, 44, 55])"
      ]
     },
     "execution_count": 20,
     "metadata": {},
     "output_type": "execute_result"
    }
   ],
   "source": [
    "import numpy as np\n",
    "\n",
    "py_list_1 = [1, 2, 3, 4, 5]\n",
    "py_list_2 = [10, 20, 30, 40, 50]\n",
    "\n",
    "np_array_1 = np.array(py_list_1)\n",
    "np_array_2 = np.array(py_list_2)\n",
    "\n",
    "np_array_1 + np_array_2"
   ]
  },
  {
   "attachments": {},
   "cell_type": "markdown",
   "id": "93c68a20",
   "metadata": {},
   "source": [
    "## Multiplying by a Number"
   ]
  },
  {
   "cell_type": "code",
   "execution_count": null,
   "id": "8e7b9bd6-626f-4300-a331-79a546a2f145",
   "metadata": {},
   "outputs": [
    {
     "data": {
      "text/plain": [
       "[1, 2, 3, 4, 5, 1, 2, 3, 4, 5]"
      ]
     },
     "execution_count": 21,
     "metadata": {},
     "output_type": "execute_result"
    }
   ],
   "source": [
    "import numpy as np\n",
    "\n",
    "py_list = [1, 2, 3, 4, 5]\n",
    "np_array = np.array(py_list)         \n",
    "\n",
    "py_list*2"
   ]
  },
  {
   "cell_type": "code",
   "execution_count": null,
   "id": "02f6e96f-21ef-4fcb-a19f-c1033d7ac2fb",
   "metadata": {},
   "outputs": [
    {
     "data": {
      "text/plain": [
       "array([ 2,  4,  6,  8, 10])"
      ]
     },
     "execution_count": 22,
     "metadata": {},
     "output_type": "execute_result"
    }
   ],
   "source": [
    "import numpy as np\n",
    "\n",
    "py_list = [1, 2, 3, 4, 5]\n",
    "np_array = np.array(py_list)         \n",
    "\n",
    "np_array*2"
   ]
  },
  {
   "attachments": {},
   "cell_type": "markdown",
   "id": "4f01b488",
   "metadata": {},
   "source": [
    "## Squaring"
   ]
  },
  {
   "cell_type": "code",
   "execution_count": null,
   "id": "85781e3c-4d42-496f-bc9d-aa7ccc606d36",
   "metadata": {},
   "outputs": [
    {
     "ename": "TypeError",
     "evalue": "unsupported operand type(s) for ** or pow(): 'list' and 'int'",
     "output_type": "error",
     "traceback": [
      "\u001b[1;31m---------------------------------------------------------------------------\u001b[0m",
      "\u001b[1;31mTypeError\u001b[0m                                 Traceback (most recent call last)",
      "Cell \u001b[1;32mIn[23], line 4\u001b[0m\n\u001b[0;32m      1\u001b[0m py_list \u001b[38;5;241m=\u001b[39m [\u001b[38;5;241m1\u001b[39m, \u001b[38;5;241m2\u001b[39m, \u001b[38;5;241m3\u001b[39m, \u001b[38;5;241m4\u001b[39m, \u001b[38;5;241m5\u001b[39m]\n\u001b[0;32m      2\u001b[0m np_array \u001b[38;5;241m=\u001b[39m np\u001b[38;5;241m.\u001b[39marray(py_list)\n\u001b[1;32m----> 4\u001b[0m \u001b[43mpy_list\u001b[49m\u001b[38;5;241;43m*\u001b[39;49m\u001b[38;5;241;43m*\u001b[39;49m\u001b[38;5;241;43m2\u001b[39;49m                      \u001b[38;5;66;03m# Won't work!  \u001b[39;00m\n",
      "\u001b[1;31mTypeError\u001b[0m: unsupported operand type(s) for ** or pow(): 'list' and 'int'"
     ]
    }
   ],
   "source": [
    "py_list = [1, 2, 3, 4, 5]\n",
    "np_array = np.array(py_list)\n",
    "\n",
    "py_list**2                      # Won't work!  "
   ]
  },
  {
   "cell_type": "code",
   "execution_count": null,
   "id": "d06f6fd3-dbdf-470a-85c2-c658e5431975",
   "metadata": {},
   "outputs": [
    {
     "data": {
      "text/plain": [
       "array([ 1,  4,  9, 16, 25])"
      ]
     },
     "execution_count": 24,
     "metadata": {},
     "output_type": "execute_result"
    }
   ],
   "source": [
    "import numpy as np\n",
    "\n",
    "py_list = [1, 2, 3, 4, 5]\n",
    "np_array = np.array(py_list)\n",
    "\n",
    "np_array**2"
   ]
  },
  {
   "attachments": {},
   "cell_type": "markdown",
   "id": "429f3d38",
   "metadata": {},
   "source": [
    "## Asking questions"
   ]
  },
  {
   "cell_type": "code",
   "execution_count": null,
   "id": "58b484db-7cf0-4f93-b9cf-56ba98272060",
   "metadata": {},
   "outputs": [
    {
     "data": {
      "text/plain": [
       "False"
      ]
     },
     "execution_count": 25,
     "metadata": {},
     "output_type": "execute_result"
    }
   ],
   "source": [
    "py_list = [1, 2, 3, 4, 5]\n",
    "np_array = np.array(py_list)         \n",
    "\n",
    "py_list == 3     # Works, but what IS the question?"
   ]
  },
  {
   "cell_type": "code",
   "execution_count": null,
   "id": "1fac5434-89ad-4c2e-83a1-e76d5988b71b",
   "metadata": {},
   "outputs": [
    {
     "ename": "TypeError",
     "evalue": "'>' not supported between instances of 'list' and 'int'",
     "output_type": "error",
     "traceback": [
      "\u001b[1;31m---------------------------------------------------------------------------\u001b[0m",
      "\u001b[1;31mTypeError\u001b[0m                                 Traceback (most recent call last)",
      "Cell \u001b[1;32mIn[26], line 4\u001b[0m\n\u001b[0;32m      1\u001b[0m py_list \u001b[38;5;241m=\u001b[39m [\u001b[38;5;241m1\u001b[39m, \u001b[38;5;241m2\u001b[39m, \u001b[38;5;241m3\u001b[39m, \u001b[38;5;241m4\u001b[39m, \u001b[38;5;241m5\u001b[39m]\n\u001b[0;32m      2\u001b[0m np_array \u001b[38;5;241m=\u001b[39m np\u001b[38;5;241m.\u001b[39marray(py_list)       \n\u001b[1;32m----> 4\u001b[0m \u001b[43mpy_list\u001b[49m\u001b[43m \u001b[49m\u001b[38;5;241;43m>\u001b[39;49m\u001b[43m \u001b[49m\u001b[38;5;241;43m3\u001b[39;49m      \u001b[38;5;66;03m# Won't work!\u001b[39;00m\n",
      "\u001b[1;31mTypeError\u001b[0m: '>' not supported between instances of 'list' and 'int'"
     ]
    }
   ],
   "source": [
    "py_list = [1, 2, 3, 4, 5]\n",
    "np_array = np.array(py_list)       \n",
    "\n",
    "py_list > 3      # Won't work!"
   ]
  },
  {
   "cell_type": "code",
   "execution_count": null,
   "id": "78d20dd3-ae78-4501-a93b-d063e50876cb",
   "metadata": {},
   "outputs": [
    {
     "data": {
      "text/plain": [
       "array([False, False,  True, False, False])"
      ]
     },
     "execution_count": 27,
     "metadata": {},
     "output_type": "execute_result"
    }
   ],
   "source": [
    "py_list = [1, 2, 3, 4, 5]\n",
    "np_array = np.array(py_list)       \n",
    "\n",
    "np_array == 3  "
   ]
  },
  {
   "cell_type": "code",
   "execution_count": null,
   "id": "f74c7ba5-2113-4c71-909a-497127533052",
   "metadata": {},
   "outputs": [
    {
     "data": {
      "text/plain": [
       "array([False, False, False,  True,  True])"
      ]
     },
     "execution_count": 28,
     "metadata": {},
     "output_type": "execute_result"
    }
   ],
   "source": [
    "py_list = [1, 2, 3, 4, 5]\n",
    "np_array = np.array(py_list)    \n",
    "\n",
    "np_array > 3"
   ]
  },
  {
   "attachments": {},
   "cell_type": "markdown",
   "id": "bef482ea",
   "metadata": {},
   "source": [
    "## Mathematics"
   ]
  },
  {
   "cell_type": "code",
   "execution_count": null,
   "id": "361e5010-bbd2-4221-83a1-7b107aca54c1",
   "metadata": {},
   "outputs": [],
   "source": [
    "py_list = [1, 2, 3, 4, 5]\n",
    "np_array = np.array(py_list) \n",
    "\n",
    "sum(py_list)     # sum() is a base Python function\n",
    "max(py_list)     # max() is a base Python function\n",
    "min(py_list)     # min() is a base Python function\n",
    "py_list.sum()   # Won't work!"
   ]
  },
  {
   "cell_type": "code",
   "execution_count": null,
   "id": "d214ae77-409a-4f36-9b95-016700d9b26c",
   "metadata": {},
   "outputs": [],
   "source": [
    "py_list = [1, 2, 3, 4, 5]\n",
    "np_array = np.array(py_list)         \n",
    "\n",
    "np_array.sum()\n",
    "np_array.max()\n",
    "np_array.min()\n",
    "np_array.mean()\n",
    "np_array.std()\n",
    "\n",
    "#all will work"
   ]
  },
  {
   "attachments": {},
   "cell_type": "markdown",
   "id": "3d2dec44",
   "metadata": {},
   "source": [
    "# Exercises & Self-Assessment"
   ]
  },
  {
   "cell_type": "markdown",
   "id": "42dcb4cd-2752-4e26-bd9a-00dd887e900f",
   "metadata": {},
   "source": [
    "\n",
    "\n",
    "Refer to storing data (need) exercises learning portfolio\n",
    "\n",
    "\n"
   ]
  },
  {
   "attachments": {},
   "cell_type": "markdown",
   "id": "3b045c5b",
   "metadata": {},
   "source": [
    "## Footnotes"
   ]
  }
 ],
 "metadata": {
  "kernelspec": {
   "display_name": "Python 3 (ipykernel)",
   "language": "python",
   "name": "python3"
  },
  "language_info": {
   "codemirror_mode": {
    "name": "ipython",
    "version": 3
   },
   "file_extension": ".py",
   "mimetype": "text/x-python",
   "name": "python",
   "nbconvert_exporter": "python",
   "pygments_lexer": "ipython3",
   "version": "3.10.13"
  },
  "toc": {
   "base_numbering": 1,
   "nav_menu": {},
   "number_sections": true,
   "sideBar": true,
   "skip_h1_title": false,
   "title_cell": "Table of Contents",
   "title_sidebar": "Contents",
   "toc_cell": false,
   "toc_position": {},
   "toc_section_display": true,
   "toc_window_display": false
  },
  "vscode": {
   "interpreter": {
    "hash": "31f2aee4e71d21fbe5cf8b01ff0e069b9275f58929596ceb00d14d90e3e16cd6"
   }
  }
 },
 "nbformat": 4,
 "nbformat_minor": 5
}
