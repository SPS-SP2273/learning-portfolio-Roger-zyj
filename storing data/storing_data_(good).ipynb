{
 "cells": [
  {
   "attachments": {},
   "cell_type": "markdown",
   "id": "123456",
   "metadata": {},
   "source": [
    "<div style=\"text-align:left;font-size:2em\"><span style=\"font-weight:bolder;font-size:1.25em\">SP2273 | Learning Portfolio</span><br><br><span style=\"font-weight:bold;color:darkred\">Storing Data (Good)</span></div>"
   ]
  },
  {
   "attachments": {},
   "cell_type": "markdown",
   "id": "e40f6866",
   "metadata": {},
   "source": [
    "# What to expect in this chapter"
   ]
  },
  {
   "attachments": {},
   "cell_type": "markdown",
   "id": "313c474e",
   "metadata": {},
   "source": [
    "# Subsetting: Indexing and Slicing"
   ]
  },
  {
   "cell_type": "markdown",
   "id": "5ccc3c8b-6b04-41a0-843d-5a80f6dac882",
   "metadata": {},
   "source": [
    "**Subsetting** means to ‘select’.\n",
    "\n",
    "**Indexing** refers to selecting one element (recall storing (need) content).\n",
    "\n",
    "**Slicing** refers to selecting a range of elements."
   ]
  },
  {
   "attachments": {},
   "cell_type": "markdown",
   "id": "1b18367c",
   "metadata": {},
   "source": [
    "## Lists & Arrays in 1D | Subsetting & Indexing"
   ]
  },
  {
   "cell_type": "code",
   "execution_count": 1,
   "id": "2482ae66-b4e1-47e4-888a-65534a11037d",
   "metadata": {},
   "outputs": [],
   "source": [
    "import numpy as np\n",
    "\n",
    "py_list=[\"a1\", \"b2\", \"c3\", \"d4\", \"e5\",\n",
    "         \"f6\", \"g7\", \"h8\", \"i9\", \"j10\"]\n",
    "np_array=np.array(py_list)\n",
    "\n",
    "# Pick one\n",
    "x = py_list  # OR\n",
    "x = np_array"
   ]
  },
  {
   "cell_type": "markdown",
   "id": "f36db8dc-2b2d-4090-81d1-4317e875b86d",
   "metadata": {},
   "source": [
    "| Syntax      | Results                         |                                   | Notes                                    |\n",
    "|-------------|---------------------------------|-----------------------------------|------------------------------------------|\n",
    "| `x[0]`      | First element                   | `'a1'`                            |                                          |\n",
    "| `x[-1]`     | Last element                    | `'j10'`                           |                                          |\n",
    "| `x[0:3]`    | Index 0 to 2                    | `['a1','b2','c3']`                | Gives  3 − 0 = 3 elements                |\n",
    "| `x[1:6]`    | Index 1 to 5                    | `['b2','c3','d4','e5','f6']`      | Gives  6 − 1 = 5 elements                |\n",
    "| `x[1:6:2]`  | Index 1 to 5 in steps of 2      | `['b2','d4','f6']`                | Gives every other of  6 − 1 = 5 elements |\n",
    "| `x[5:]`     | Index 5 to the end              | `['f6','g7','h8','i9','j10']`     | Gives len(x) − 5 = 5 elements            |\n",
    "| `x[:5]`     | Index 0 to 5                    | `['a1','b2','c3','d4','e5']`      | Gives  5 − 0 = 5 elements                |\n",
    "| `x[5:2:-1]` | Index 5 to 3 (i.e., in reverse) | `['f6','e5','d4']`                | Gives  5 − 2 = 3 elements                |\n",
    "| `x[::-1]`   | Reverses the list               | `['j10','i9','h8',...,'b2','a1']` |                                          |"
   ]
  },
  {
   "cell_type": "markdown",
   "id": "2d80c399-2129-435b-9999-c9bf16e5105c",
   "metadata": {},
   "source": [
    "Remember slicing in Python can be a bit tricky.\n",
    "**If you slice with `[i:j]`, the slice will start at `i` and end at `j-1`, giving you a total of `j-i` elements.**"
   ]
  },
  {
   "attachments": {},
   "cell_type": "markdown",
   "id": "5068f847",
   "metadata": {},
   "source": [
    "## Arrays only | Subsetting by masking"
   ]
  },
  {
   "cell_type": "code",
   "execution_count": 2,
   "id": "ebe2d2d5-e60a-46ff-8198-1843ae906d96",
   "metadata": {},
   "outputs": [
    {
     "data": {
      "text/plain": [
       "array([ 4,  5,  6,  7,  8,  9, 10])"
      ]
     },
     "execution_count": 2,
     "metadata": {},
     "output_type": "execute_result"
    }
   ],
   "source": [
    "np_array = np.array([1, 2, 3, 4, 5, 6, 7, 8, 9, 10])\n",
    "my_mask = np_array > 3\n",
    "my_mask\n",
    "\n",
    "np_array[my_mask]"
   ]
  },
  {
   "cell_type": "code",
   "execution_count": 3,
   "id": "851dcf5e-67e2-4962-945e-08f5b8099b61",
   "metadata": {},
   "outputs": [
    {
     "data": {
      "text/plain": [
       "array([ 4,  5,  6,  7,  8,  9, 10])"
      ]
     },
     "execution_count": 3,
     "metadata": {},
     "output_type": "execute_result"
    }
   ],
   "source": [
    "\n",
    "\n",
    "np_array[np_array > 3]"
   ]
  },
  {
   "attachments": {},
   "cell_type": "markdown",
   "id": "65e1b3ec-eac3-4486-90e9-03af811fcdaf",
   "metadata": {},
   "source": [
    "**Masking effect where only the `True` subset can be seen**\n",
    "\n",
    "Remember that subsetting by masking **only** works with NumPy arrays."
   ]
  },
  {
   "cell_type": "code",
   "execution_count": 4,
   "id": "a17da8c6-7149-4f08-a416-659d4c8ef08f",
   "metadata": {},
   "outputs": [
    {
     "data": {
      "text/plain": [
       "array([1, 2, 3])"
      ]
     },
     "execution_count": 4,
     "metadata": {},
     "output_type": "execute_result"
    }
   ],
   "source": [
    "np_array[~(np_array > 3)]                 # '~' means 'NOT'"
   ]
  },
  {
   "cell_type": "code",
   "execution_count": 5,
   "id": "81399668-8aee-4056-93f9-2de95439bbac",
   "metadata": {},
   "outputs": [
    {
     "data": {
      "text/plain": [
       "array([4, 5, 6, 7])"
      ]
     },
     "execution_count": 5,
     "metadata": {},
     "output_type": "execute_result"
    }
   ],
   "source": [
    "np_array[(np_array > 3) & (np_array < 8)] # '&' means 'AND'"
   ]
  },
  {
   "cell_type": "code",
   "execution_count": 6,
   "id": "ac7b3ff7-9c4d-4e08-b60c-bf037ec41715",
   "metadata": {},
   "outputs": [
    {
     "data": {
      "text/plain": [
       "array([ 1,  2,  9, 10])"
      ]
     },
     "execution_count": 6,
     "metadata": {},
     "output_type": "execute_result"
    }
   ],
   "source": [
    "np_array[(np_array < 3) | (np_array > 8)] # '|' means 'OR'"
   ]
  },
  {
   "cell_type": "markdown",
   "id": "86a001b0-11fc-4308-a723-7b37520a41b7",
   "metadata": {},
   "source": [
    "**Remember:**\n",
    "Always use the Bitwise NOT(~), Bitwise OR(|) and Bitwise AND(&) when combining masks with NumPy.\n",
    "Always use brackets to clarify what you are asking the mask to do."
   ]
  },
  {
   "attachments": {},
   "cell_type": "markdown",
   "id": "c6eaf399",
   "metadata": {},
   "source": [
    "## Lists & Arrays in 2D | Indexing & Slicing"
   ]
  },
  {
   "cell_type": "code",
   "execution_count": 7,
   "id": "23ddf3a2-f9d0-4d74-9246-5766872ab169",
   "metadata": {},
   "outputs": [],
   "source": [
    "py_list_2d = [[1, \"A\"], [2, \"B\"], [3, \"C\"], [4, \"D\"],\n",
    "              [5, \"E\"], [6, \"F\"], [7, \"G\"], [8, \"H\"],\n",
    "              [9, \"I\"], [10, \"J\"]]\n",
    "\n",
    "np_array_2d = np.array(py_list_2d)"
   ]
  },
  {
   "cell_type": "code",
   "execution_count": 8,
   "id": "9a498080-fc00-4e1c-8e45-9866ea8c229d",
   "metadata": {},
   "outputs": [
    {
     "data": {
      "text/plain": [
       "[4, 'D']"
      ]
     },
     "execution_count": 8,
     "metadata": {},
     "output_type": "execute_result"
    }
   ],
   "source": [
    "py_list_2d[3] # index 3, position 4"
   ]
  },
  {
   "cell_type": "code",
   "execution_count": 9,
   "id": "02e4bc7a-b111-4186-9624-a3aca48f48fb",
   "metadata": {},
   "outputs": [
    {
     "data": {
      "text/plain": [
       "array(['4', 'D'], dtype='<U21')"
      ]
     },
     "execution_count": 9,
     "metadata": {},
     "output_type": "execute_result"
    }
   ],
   "source": [
    "np_array_2d[3] # index 3, position 4"
   ]
  },
  {
   "cell_type": "code",
   "execution_count": 10,
   "id": "91a44e52-f399-4901-a4cf-4d72ada9be4a",
   "metadata": {},
   "outputs": [
    {
     "data": {
      "text/plain": [
       "4"
      ]
     },
     "execution_count": 10,
     "metadata": {},
     "output_type": "execute_result"
    }
   ],
   "source": [
    "py_list_2d[3][0] # index 3, position 4, first element"
   ]
  },
  {
   "cell_type": "code",
   "execution_count": 11,
   "id": "ef6ce9ce-285e-448a-a9ce-86dc8d176fce",
   "metadata": {},
   "outputs": [
    {
     "data": {
      "text/plain": [
       "'4'"
      ]
     },
     "execution_count": 11,
     "metadata": {},
     "output_type": "execute_result"
    }
   ],
   "source": [
    "np_array_2d[3, 0] # index 3, position 4, first element"
   ]
  },
  {
   "cell_type": "markdown",
   "id": "f1c8580f-c732-42ac-8981-ab3ea9296976",
   "metadata": {},
   "source": [
    "Notice how the syntax for arrays uses just a single pair of square brackets (`[ ]`).\n",
    "\n"
   ]
  },
  {
   "cell_type": "code",
   "execution_count": 12,
   "id": "00c82d1e-32bb-462e-a2d8-92cf4f93a777",
   "metadata": {},
   "outputs": [
    {
     "data": {
      "text/plain": [
       "[[1, 'A'], [2, 'B'], [3, 'C']]"
      ]
     },
     "execution_count": 12,
     "metadata": {},
     "output_type": "execute_result"
    }
   ],
   "source": [
    "py_list_2d[:3] # first 3 elements"
   ]
  },
  {
   "cell_type": "code",
   "execution_count": 13,
   "id": "e22f1ddd-a593-4ae2-b9cf-d5c385941f37",
   "metadata": {},
   "outputs": [
    {
     "data": {
      "text/plain": [
       "array([['1', 'A'],\n",
       "       ['2', 'B'],\n",
       "       ['3', 'C']], dtype='<U21')"
      ]
     },
     "execution_count": 13,
     "metadata": {},
     "output_type": "execute_result"
    }
   ],
   "source": [
    "np_array_2d[:3] # first 3 elements"
   ]
  },
  {
   "cell_type": "code",
   "execution_count": 14,
   "id": "15586093-1025-4beb-be67-fc0d169f236b",
   "metadata": {},
   "outputs": [
    {
     "data": {
      "text/plain": [
       "[1, 'A']"
      ]
     },
     "execution_count": 14,
     "metadata": {},
     "output_type": "execute_result"
    }
   ],
   "source": [
    "py_list_2d[:3][0] # first element of the first 3 elements of the list"
   ]
  },
  {
   "cell_type": "code",
   "execution_count": 15,
   "id": "67fa16dc-2986-435c-8a2e-7b4497dfe3f3",
   "metadata": {},
   "outputs": [
    {
     "data": {
      "text/plain": [
       "array(['1', '2', '3'], dtype='<U21')"
      ]
     },
     "execution_count": 15,
     "metadata": {},
     "output_type": "execute_result"
    }
   ],
   "source": [
    "np_array_2d[:3, 0] # first value of the first 3 elements of the list"
   ]
  },
  {
   "cell_type": "code",
   "execution_count": 16,
   "id": "898659b0-5347-48d8-99f2-8bbcfb99bb3b",
   "metadata": {},
   "outputs": [
    {
     "data": {
      "text/plain": [
       "[4, 'D']"
      ]
     },
     "execution_count": 16,
     "metadata": {},
     "output_type": "execute_result"
    }
   ],
   "source": [
    "py_list_2d[3:6][0]"
   ]
  },
  {
   "cell_type": "code",
   "execution_count": 17,
   "id": "6fb5915d-c423-4f5a-9862-e0dc915badf0",
   "metadata": {},
   "outputs": [
    {
     "data": {
      "text/plain": [
       "array(['4', '5', '6'], dtype='<U21')"
      ]
     },
     "execution_count": 17,
     "metadata": {},
     "output_type": "execute_result"
    }
   ],
   "source": [
    "np_array_2d[3:6, 0]"
   ]
  },
  {
   "cell_type": "code",
   "execution_count": 18,
   "id": "f8808bfc-0124-40cb-98da-44ffb20c3858",
   "metadata": {},
   "outputs": [
    {
     "data": {
      "text/plain": [
       "array(['1', '2', '3', '4', '5', '6', '7', '8', '9', '10'], dtype='<U21')"
      ]
     },
     "execution_count": 18,
     "metadata": {},
     "output_type": "execute_result"
    }
   ],
   "source": [
    "np_array_2d[:, 0] # colon means all elements"
   ]
  },
  {
   "attachments": {},
   "cell_type": "markdown",
   "id": "0d788288",
   "metadata": {},
   "source": [
    "## Growing lists"
   ]
  },
  {
   "cell_type": "code",
   "execution_count": 19,
   "id": "c5250fd8-bf1f-4657-b90d-65bf9a7f2557",
   "metadata": {},
   "outputs": [
    {
     "data": {
      "text/plain": [
       "[1, 2, 1, 2, 1, 2, 1, 2, 1, 2]"
      ]
     },
     "execution_count": 19,
     "metadata": {},
     "output_type": "execute_result"
    }
   ],
   "source": [
    "x=[1, 2]*5 # extending/growing the list by 5 times of 1,2 \n",
    "x"
   ]
  },
  {
   "cell_type": "code",
   "execution_count": 20,
   "id": "9ad6f55a-863d-4283-b3f0-63dc3915c770",
   "metadata": {},
   "outputs": [
    {
     "data": {
      "text/plain": [
       "[1, 2, 3, 4]"
      ]
     },
     "execution_count": 20,
     "metadata": {},
     "output_type": "execute_result"
    }
   ],
   "source": [
    "#APPENDING\n",
    "\n",
    "# Version 1 \n",
    "\n",
    "x=[1]\n",
    "x= x + [2]\n",
    "x= x + [3]\n",
    "x= x + [4]\n",
    "x\n",
    "\n",
    "# Version 2 \n",
    "\n",
    "x=[1]\n",
    "x+= [2]\n",
    "x+= [3]\n",
    "x+= [4]\n",
    "x\n",
    "\n",
    "# Version 3\n",
    "\n",
    "x=[1]\n",
    "x.append(2)\n",
    "x.append(3)\n",
    "x.append(4)\n",
    "x\n",
    "\n",
    "# Their execution speeds are different; the version with append() runs about 1.5 times faster than the rest!\n"
   ]
  },
  {
   "cell_type": "code",
   "execution_count": 21,
   "id": "3c92f1ea-b54f-41bd-826e-02d56173b3c7",
   "metadata": {},
   "outputs": [
    {
     "data": {
      "text/plain": [
       "[1, 2, 3, 4, 5, 6]"
      ]
     },
     "execution_count": 21,
     "metadata": {},
     "output_type": "execute_result"
    }
   ],
   "source": [
    "# INCORPORATING MULTIPLE ELEMENTS \n",
    "\n",
    "# Version 1 \n",
    "\n",
    "x = [1, 2, 3]\n",
    "x += [4, 5, 6]\n",
    "x\n",
    "\n",
    "# Version 2\n",
    "\n",
    "x=[1, 2, 3]\n",
    "x.extend([4, 5, 6])\n",
    "x\n"
   ]
  },
  {
   "cell_type": "code",
   "execution_count": 22,
   "id": "91af65e7-5a87-4763-98ce-40ca16098257",
   "metadata": {},
   "outputs": [
    {
     "data": {
      "text/plain": [
       "[1, 2, 3, [4, 5, 6]]"
      ]
     },
     "execution_count": 22,
     "metadata": {},
     "output_type": "execute_result"
    }
   ],
   "source": [
    "# Version 3\n",
    "\n",
    "x=[1, 2, 3]\n",
    "x.append([4, 5, 6])\n",
    "x"
   ]
  },
  {
   "attachments": {},
   "cell_type": "markdown",
   "id": "98ddd2e4",
   "metadata": {},
   "source": [
    "# Some loose ends"
   ]
  },
  {
   "attachments": {},
   "cell_type": "markdown",
   "id": "d62fda04",
   "metadata": {},
   "source": [
    "## Tuples"
   ]
  },
  {
   "cell_type": "markdown",
   "id": "6662c9d0-ad52-4fb1-9b33-ac69f4f11e30",
   "metadata": {},
   "source": [
    "Tuples are similar to lists, except they use ( ) and cannot be changed after creation (i.e., they are immutable)."
   ]
  },
  {
   "cell_type": "code",
   "execution_count": 23,
   "id": "e783fac7-2bda-4d89-8c86-ce500d91f1e9",
   "metadata": {},
   "outputs": [
    {
     "name": "stdout",
     "output_type": "stream",
     "text": [
      "1\n"
     ]
    }
   ],
   "source": [
    "a=(1, 2, 3)     # Define tuple\n",
    "print(a[0])    # Access data"
   ]
  },
  {
   "cell_type": "code",
   "execution_count": 24,
   "id": "0fa1756e-9880-416a-a152-a018f85c8b4c",
   "metadata": {},
   "outputs": [
    {
     "ename": "TypeError",
     "evalue": "'tuple' object does not support item assignment",
     "output_type": "error",
     "traceback": [
      "\u001b[0;31m---------------------------------------------------------------------------\u001b[0m",
      "\u001b[0;31mTypeError\u001b[0m                                 Traceback (most recent call last)",
      "Cell \u001b[0;32mIn[24], line 2\u001b[0m\n\u001b[1;32m      1\u001b[0m \u001b[38;5;66;03m# The following will NOT work because we cannot change data since tuple is immutable\u001b[39;00m\n\u001b[0;32m----> 2\u001b[0m \u001b[43ma\u001b[49m\u001b[43m[\u001b[49m\u001b[38;5;241;43m0\u001b[39;49m\u001b[43m]\u001b[49m\u001b[38;5;241m=\u001b[39m\u001b[38;5;241m-\u001b[39m\u001b[38;5;241m1\u001b[39m\n\u001b[1;32m      3\u001b[0m a[\u001b[38;5;241m0\u001b[39m]\u001b[38;5;241m+\u001b[39m\u001b[38;5;241m=\u001b[39m [\u001b[38;5;241m10\u001b[39m]\n",
      "\u001b[0;31mTypeError\u001b[0m: 'tuple' object does not support item assignment"
     ]
    }
   ],
   "source": [
    "# The following will NOT work because we cannot change data since tuple is immutable\n",
    "a[0]=-1\n",
    "a[0]+= [10]"
   ]
  },
  {
   "attachments": {},
   "cell_type": "markdown",
   "id": "c2dfb6b0",
   "metadata": {},
   "source": [
    "## Be VERY careful when copying"
   ]
  },
  {
   "cell_type": "code",
   "execution_count": null,
   "id": "68b3ffbc-9663-4c0d-9d93-7dcc3e54c215",
   "metadata": {},
   "outputs": [],
   "source": [
    "x=[1, 2, 3]\n",
    "y=x           # DON'T do this!\n",
    "z=x           # DON'T do this!"
   ]
  },
  {
   "cell_type": "code",
   "execution_count": null,
   "id": "5bd8e794-e473-49ec-8382-9a4e3fd9238c",
   "metadata": {},
   "outputs": [],
   "source": [
    "# Do this! \n",
    "\n",
    "x=[1, 2, 3]\n",
    "y=x.copy()\n",
    "z=x.copy()"
   ]
  },
  {
   "attachments": {},
   "cell_type": "markdown",
   "id": "abd86a3c",
   "metadata": {},
   "source": [
    "# Exercises & Self-Assessment"
   ]
  },
  {
   "cell_type": "markdown",
   "id": "9a96a4b1-f067-4ee0-9165-e14192de8a4a",
   "metadata": {},
   "source": [
    "Refer to storing data (good) exercises learning portfolio notebook"
   ]
  }
 ],
 "metadata": {
  "kernelspec": {
   "display_name": "Python 3 (ipykernel)",
   "language": "python",
   "name": "python3"
  },
  "language_info": {
   "codemirror_mode": {
    "name": "ipython",
    "version": 3
   },
   "file_extension": ".py",
   "mimetype": "text/x-python",
   "name": "python",
   "nbconvert_exporter": "python",
   "pygments_lexer": "ipython3",
   "version": "3.10.13"
  },
  "toc": {
   "base_numbering": 1,
   "nav_menu": {},
   "number_sections": true,
   "sideBar": true,
   "skip_h1_title": false,
   "title_cell": "Table of Contents",
   "title_sidebar": "Contents",
   "toc_cell": false,
   "toc_position": {},
   "toc_section_display": true,
   "toc_window_display": false
  },
  "vscode": {
   "interpreter": {
    "hash": "31f2aee4e71d21fbe5cf8b01ff0e069b9275f58929596ceb00d14d90e3e16cd6"
   }
  }
 },
 "nbformat": 4,
 "nbformat_minor": 5
}
