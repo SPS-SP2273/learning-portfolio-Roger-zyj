{
 "cells": [
  {
   "attachments": {},
   "cell_type": "markdown",
   "id": "123456",
   "metadata": {},
   "source": [
    "<div style=\"text-align:left;font-size:2em\"><span style=\"font-weight:bolder;font-size:1.25em\">SP2273 | Learning Portfolio</span><br><br><span style=\"font-weight:bold;color:darkred\">Functions (Good)</span></div>"
   ]
  },
  {
   "attachments": {},
   "cell_type": "markdown",
   "id": "b64ed66b",
   "metadata": {},
   "source": [
    "# What to expect in this chapter"
   ]
  },
  {
   "attachments": {},
   "cell_type": "markdown",
   "id": "259ea222",
   "metadata": {},
   "source": [
    "# Checks, balances, and contingencies"
   ]
  },
  {
   "cell_type": "markdown",
   "id": "1f39489f-cc2a-4005-a9eb-863af50f094e",
   "metadata": {},
   "source": [
    "There are two standard ways Python allows us to incorporate checks: `assert` and `try-except`."
   ]
  },
  {
   "attachments": {},
   "cell_type": "markdown",
   "id": "122fdef9",
   "metadata": {},
   "source": [
    "## assert"
   ]
  },
  {
   "cell_type": "markdown",
   "id": "61afac94-a6fd-4ea2-ad07-d0d3149e4828",
   "metadata": {},
   "source": [
    "The program will run for as long as the condition is `True`. If it fails, then an `AssertationError` is raised, and the program stops running!"
   ]
  },
  {
   "cell_type": "markdown",
   "id": "74e6e61c-5a7c-4625-88f2-09ef6b086675",
   "metadata": {},
   "source": [
    "##### basic syntax: \n",
    "\n",
    "`assert` condition-to-check, message"
   ]
  },
  {
   "cell_type": "code",
   "execution_count": 1,
   "id": "fea2a0c2-65b0-4676-82aa-bb28bc4e96c5",
   "metadata": {},
   "outputs": [
    {
     "ename": "AssertionError",
     "evalue": "x is becoming negative!",
     "output_type": "error",
     "traceback": [
      "\u001b[0;31m---------------------------------------------------------------------------\u001b[0m",
      "\u001b[0;31mAssertionError\u001b[0m                            Traceback (most recent call last)",
      "Cell \u001b[0;32mIn[1], line 5\u001b[0m\n\u001b[1;32m      2\u001b[0m \u001b[38;5;28;01massert\u001b[39;00m x \u001b[38;5;241m>\u001b[39m\u001b[38;5;241m=\u001b[39m \u001b[38;5;241m0\u001b[39m, \u001b[38;5;124m\"\u001b[39m\u001b[38;5;124mx is becoming negative!\u001b[39m\u001b[38;5;124m\"\u001b[39m\n\u001b[1;32m      4\u001b[0m x \u001b[38;5;241m=\u001b[39m \u001b[38;5;241m-\u001b[39m\u001b[38;5;241m1\u001b[39m\n\u001b[0;32m----> 5\u001b[0m \u001b[38;5;28;01massert\u001b[39;00m x \u001b[38;5;241m>\u001b[39m\u001b[38;5;241m=\u001b[39m \u001b[38;5;241m0\u001b[39m, \u001b[38;5;124m\"\u001b[39m\u001b[38;5;124mx is becoming negative!\u001b[39m\u001b[38;5;124m\"\u001b[39m\n",
      "\u001b[0;31mAssertionError\u001b[0m: x is becoming negative!"
     ]
    }
   ],
   "source": [
    "x = 10\n",
    "assert x >= 0, \"x is becoming negative!\"\n",
    "\n",
    "x = -1\n",
    "assert x >= 0, \"x is becoming negative!\""
   ]
  },
  {
   "attachments": {},
   "cell_type": "markdown",
   "id": "e2d52c63",
   "metadata": {},
   "source": [
    "## try-except"
   ]
  },
  {
   "cell_type": "code",
   "execution_count": 2,
   "id": "1771a0f0-61e3-422c-9029-15c17ca15edd",
   "metadata": {},
   "outputs": [
    {
     "name": "stdout",
     "output_type": "stream",
     "text": [
      "The square of 5 is 25!\n"
     ]
    }
   ],
   "source": [
    "number=input(\"Give me a number and I will calculate its square.\")\n",
    "square=int(number)**2              # Convert English to number\n",
    "print(f'The square of {number} is {square}!')"
   ]
  },
  {
   "cell_type": "code",
   "execution_count": 3,
   "id": "d24d878b-c836-4645-a70d-20c0dce7888e",
   "metadata": {},
   "outputs": [
    {
     "name": "stdout",
     "output_type": "stream",
     "text": [
      "The square of 5 is 25!\n"
     ]
    }
   ],
   "source": [
    "try:\n",
    "    number=input(\"Give me a number and I will calculate its square.\")\n",
    "    square=int(number)**2\n",
    "    print(f'The square of {number} is {square}!')\n",
    "except:\n",
    "    print(f\"Oh oh! I cannot square {number}!\")\n",
    "\n",
    "# Notice how the part of the code that we think can potentially lead to trouble is encoded (and protected) in the try block. \n",
    "# If something (anything) goes wrong, Python will ignore the error and run the code in the except block.\n",
    "# Meaning if I input 'HAHAHHAHA', python will ignore this error and run the code in the exept block. "
   ]
  },
  {
   "attachments": {},
   "cell_type": "markdown",
   "id": "106b41aa",
   "metadata": {},
   "source": [
    "## A simple suggestion"
   ]
  },
  {
   "cell_type": "markdown",
   "id": "3fe96958-9e7a-4cc4-9081-d48748729525",
   "metadata": {},
   "source": [
    "Include ‘`print()`’ statements here and there to let the outside world know what is happening in the innards of your program. Otherwise, you will stare at a blank cell, wondering what is happening."
   ]
  },
  {
   "attachments": {},
   "cell_type": "markdown",
   "id": "ef12c343",
   "metadata": {},
   "source": [
    "# Some loose ends"
   ]
  },
  {
   "attachments": {},
   "cell_type": "markdown",
   "id": "1c85b117",
   "metadata": {},
   "source": [
    "## Positional, keyword and default arguments"
   ]
  },
  {
   "cell_type": "code",
   "execution_count": 4,
   "id": "96599d21-6567-4051-a0d8-d0017ac9db5a",
   "metadata": {},
   "outputs": [],
   "source": [
    "def side_by_side(a, b, c=42):\n",
    "    return f'{a: 2d}|{b: 2d}|{c: 2d}'"
   ]
  },
  {
   "cell_type": "code",
   "execution_count": 5,
   "id": "8700eb95-2ca3-412a-bc65-796bdfc3c43e",
   "metadata": {},
   "outputs": [
    {
     "data": {
      "text/plain": [
       "' 1| 2| 42'"
      ]
     },
     "execution_count": 5,
     "metadata": {},
     "output_type": "execute_result"
    }
   ],
   "source": [
    "# Positional \n",
    "\n",
    "side_by_side(1, 2, 3) # telling Python to assign 1, 2, 3 to a, b, c using the positional order of the arguments.\n",
    "\n",
    "# Keywords\n",
    "\n",
    "side_by_side(c=3, b=1, a=2) # explicitly specify the keyword to assign the values to each of a, b, c. (No, the order does not matter)\n",
    "\n",
    "# Default \n",
    "\n",
    "side_by_side(1, b=2) # since c is optional, I can choose not to specify it\n"
   ]
  },
  {
   "cell_type": "code",
   "execution_count": 6,
   "id": "5bff7c99-f904-4504-a67c-71e296597ca3",
   "metadata": {},
   "outputs": [
    {
     "data": {
      "text/plain": [
       "' 1| 2| 42'"
      ]
     },
     "execution_count": 6,
     "metadata": {},
     "output_type": "execute_result"
    }
   ],
   "source": [
    "side_by_side(1, 2)           # Two positional, 1 default (c not specified)\n",
    "## ' 1| 2| 42'\n",
    "side_by_side(1, 2, 3)        # Three positional\n",
    "## ' 1| 2| 3'\n",
    "side_by_side(a=1, b=2)       # Two keyword, 1 default (c not specified)\n",
    "## ' 1| 2| 42'\n",
    "side_by_side(c=3, b=1, a=2)  # Three keyword\n",
    "## ' 2| 1| 3'\n",
    "side_by_side(1, c=3, b=2)    # One positional, 2 keyword\n",
    "## ' 1| 2| 3'\n",
    "side_by_side(1, b=2)         # One positional, 1 keyword, 1 default\n",
    "## ' 1| 2| 42'"
   ]
  },
  {
   "cell_type": "markdown",
   "id": "be4b886d-fc1a-44ea-b755-fa515658548a",
   "metadata": {},
   "source": [
    "##### Keywords cannot be followed by positional arguments!"
   ]
  },
  {
   "cell_type": "code",
   "execution_count": 7,
   "id": "43f3f936-9fb7-4824-80ba-573186c5e3a2",
   "metadata": {},
   "outputs": [
    {
     "ename": "SyntaxError",
     "evalue": "positional argument follows keyword argument (234114511.py, line 2)",
     "output_type": "error",
     "traceback": [
      "\u001b[0;36m  Cell \u001b[0;32mIn[7], line 2\u001b[0;36m\u001b[0m\n\u001b[0;31m    side_by_side(a=2, 1)      # Won't work.\u001b[0m\n\u001b[0m                       ^\u001b[0m\n\u001b[0;31mSyntaxError\u001b[0m\u001b[0;31m:\u001b[0m positional argument follows keyword argument\n"
     ]
    }
   ],
   "source": [
    "# Keywords cannot be followed by positional arguments\n",
    "side_by_side(a=2, 1)      # Won't work.                          "
   ]
  },
  {
   "attachments": {},
   "cell_type": "markdown",
   "id": "d617f556",
   "metadata": {},
   "source": [
    "## Docstrings"
   ]
  },
  {
   "cell_type": "code",
   "execution_count": 8,
   "id": "32edc75a-b703-4afb-b14d-42e29741cb62",
   "metadata": {},
   "outputs": [],
   "source": [
    "def side_by_side(a, b, c=42):\n",
    "    '''\n",
    "    A test function to demonstrate how \n",
    "    positional, keyword and default arguments \n",
    "    work.\n",
    "    '''\n",
    "    return f'{a: 2d}|{b: 2d}|{c: 2d}'"
   ]
  },
  {
   "cell_type": "code",
   "execution_count": 9,
   "id": "caf9c483-8f1d-499b-9721-ff0f0f850625",
   "metadata": {},
   "outputs": [
    {
     "name": "stdout",
     "output_type": "stream",
     "text": [
      "Help on function side_by_side in module __main__:\n",
      "\n",
      "side_by_side(a, b, c=42)\n",
      "    A test function to demonstrate how \n",
      "    positional, keyword and default arguments \n",
      "    work.\n",
      "\n"
     ]
    }
   ],
   "source": [
    "help(side_by_side)\n",
    "\n",
    "# we can ask Python to show us the help info using help()."
   ]
  },
  {
   "cell_type": "markdown",
   "id": "3a80f61b-b73d-42d4-bd2c-80b6e32441b3",
   "metadata": {},
   "source": [
    "**Docstring**: Used for documentation purposes. Part of the code's structure and can be accessed using tools like Python's `help()` function or documentation generators. \n",
    "\n",
    "**Comment**: Used for annotations to allow for the person coding to better understand the code. Will not be read as part of the code, and don't have to be accessed by any generators. "
   ]
  },
  {
   "attachments": {},
   "cell_type": "markdown",
   "id": "014e6c24",
   "metadata": {},
   "source": [
    "## Function are first-class citizens"
   ]
  },
  {
   "cell_type": "code",
   "execution_count": 10,
   "id": "d54ab65f-d842-43af-86d1-60a0d032044d",
   "metadata": {},
   "outputs": [
    {
     "ename": "NameError",
     "evalue": "name 'np' is not defined",
     "output_type": "error",
     "traceback": [
      "\u001b[0;31m---------------------------------------------------------------------------\u001b[0m",
      "\u001b[0;31mNameError\u001b[0m                                 Traceback (most recent call last)",
      "Cell \u001b[0;32mIn[10], line 5\u001b[0m\n\u001b[1;32m      2\u001b[0m         \u001b[38;5;28;01mreturn\u001b[39;00m trig_function(angle)\n\u001b[1;32m      4\u001b[0m \u001b[38;5;66;03m# Let's use the function\u001b[39;00m\n\u001b[0;32m----> 5\u001b[0m my_function(\u001b[43mnp\u001b[49m\u001b[38;5;241m.\u001b[39mpi\u001b[38;5;241m/\u001b[39m\u001b[38;5;241m2\u001b[39m, np\u001b[38;5;241m.\u001b[39msin) \u001b[38;5;66;03m# numpy function as arguments\u001b[39;00m\n\u001b[1;32m      6\u001b[0m                              \u001b[38;5;66;03m# notice how we don't include the parenthesis when we pass a function as an arg (eg. 'np.sin' instd of 'np.sin()')\u001b[39;00m\n\u001b[1;32m      7\u001b[0m \u001b[38;5;66;03m## 1.0\u001b[39;00m\n\u001b[1;32m      8\u001b[0m my_function(np\u001b[38;5;241m.\u001b[39mpi\u001b[38;5;241m/\u001b[39m\u001b[38;5;241m2\u001b[39m, np\u001b[38;5;241m.\u001b[39mcos)        \n",
      "\u001b[0;31mNameError\u001b[0m: name 'np' is not defined"
     ]
    }
   ],
   "source": [
    "def my_function(angle, trig_function):\n",
    "        return trig_function(angle)\n",
    "\n",
    "# Let's use the function\n",
    "my_function(np.pi/2, np.sin) # numpy function as arguments\n",
    "                             # notice how we don't include the parenthesis when we pass a function as an arg (eg. 'np.sin' instd of 'np.sin()')\n",
    "## 1.0\n",
    "my_function(np.pi/2, np.cos)        \n",
    "## 6.123233995736766e-17\n",
    "my_function(np.pi/2, lambda x: np.cos(2*x))  \n",
    "## -1.0"
   ]
  },
  {
   "attachments": {},
   "cell_type": "markdown",
   "id": "7ea03bdb",
   "metadata": {},
   "source": [
    "## More about unpacking"
   ]
  },
  {
   "cell_type": "code",
   "execution_count": 11,
   "id": "6167f62e-858d-4aa3-b674-38040dbd5579",
   "metadata": {},
   "outputs": [
    {
     "data": {
      "text/plain": [
       "(1, 2, 3)"
      ]
     },
     "execution_count": 11,
     "metadata": {},
     "output_type": "execute_result"
    }
   ],
   "source": [
    "x, y, z = [1, 2, 3]\n",
    "x, y, z"
   ]
  },
  {
   "cell_type": "code",
   "execution_count": 12,
   "id": "dd529c66-7774-4cc2-9b82-4ea12a6745df",
   "metadata": {},
   "outputs": [
    {
     "data": {
      "text/plain": [
       "(1, 2, 3)"
      ]
     },
     "execution_count": 12,
     "metadata": {},
     "output_type": "execute_result"
    }
   ],
   "source": [
    "import numpy as np\n",
    "\n",
    "x, y, z = np.array([1, 2, 3])\n",
    "x, y, z"
   ]
  },
  {
   "cell_type": "code",
   "execution_count": 13,
   "id": "771080fd-d856-49cb-85b8-39e50f851bf0",
   "metadata": {},
   "outputs": [
    {
     "data": {
      "text/plain": [
       "(1, [2, 3, 4], 5)"
      ]
     },
     "execution_count": 13,
     "metadata": {},
     "output_type": "execute_result"
    }
   ],
   "source": [
    "x, *y, z = np.array([1, 2, 3, 4, 5])\n",
    "x, y, z"
   ]
  },
  {
   "cell_type": "code",
   "execution_count": 14,
   "id": "dab2631b-e1e7-4562-99ef-7d0acbbf588f",
   "metadata": {},
   "outputs": [
    {
     "data": {
      "text/plain": [
       "(1, 5)"
      ]
     },
     "execution_count": 14,
     "metadata": {},
     "output_type": "execute_result"
    }
   ],
   "source": [
    "x, *_, y = [1, 2, 3, 4, 5]\n",
    "x, y"
   ]
  },
  {
   "cell_type": "code",
   "execution_count": 15,
   "id": "56ae01c1-4a56-4909-bf58-95d5f47f8c0a",
   "metadata": {},
   "outputs": [
    {
     "data": {
      "text/plain": [
       "6"
      ]
     },
     "execution_count": 15,
     "metadata": {},
     "output_type": "execute_result"
    }
   ],
   "source": [
    "x, *_, y, z = [1,2,3,4,5,6]\n",
    "z"
   ]
  },
  {
   "cell_type": "code",
   "execution_count": 16,
   "id": "86bccea9-c362-42b3-9a60-3ca15b810742",
   "metadata": {},
   "outputs": [
    {
     "data": {
      "text/plain": [
       "[2, 3, 4]"
      ]
     },
     "execution_count": 16,
     "metadata": {},
     "output_type": "execute_result"
    }
   ],
   "source": [
    "x, *_, y, z = [1,2,3,4,5,6]\n",
    "_"
   ]
  }
 ],
 "metadata": {
  "kernelspec": {
   "display_name": "Python 3 (ipykernel)",
   "language": "python",
   "name": "python3"
  },
  "language_info": {
   "codemirror_mode": {
    "name": "ipython",
    "version": 3
   },
   "file_extension": ".py",
   "mimetype": "text/x-python",
   "name": "python",
   "nbconvert_exporter": "python",
   "pygments_lexer": "ipython3",
   "version": "3.10.13"
  },
  "toc": {
   "base_numbering": 1,
   "nav_menu": {},
   "number_sections": true,
   "sideBar": true,
   "skip_h1_title": false,
   "title_cell": "Table of Contents",
   "title_sidebar": "Contents",
   "toc_cell": false,
   "toc_position": {},
   "toc_section_display": true,
   "toc_window_display": false
  },
  "vscode": {
   "interpreter": {
    "hash": "31f2aee4e71d21fbe5cf8b01ff0e069b9275f58929596ceb00d14d90e3e16cd6"
   }
  }
 },
 "nbformat": 4,
 "nbformat_minor": 5
}
