{
 "cells": [
  {
   "attachments": {},
   "cell_type": "markdown",
   "id": "123456",
   "metadata": {},
   "source": [
    "<div style=\"text-align:left;font-size:2em\"><span style=\"font-weight:bolder;font-size:1.25em\">SP2273 | Learning Portfolio</span><br><br><span style=\"font-weight:bold;color:darkred\">Functions (Need)</span></div>"
   ]
  },
  {
   "cell_type": "markdown",
   "id": "9ca96adb-4a0a-4ce8-964c-a7fe27e94eb7",
   "metadata": {},
   "source": [
    "a function is just a chunk of code that does a specific conceptual task."
   ]
  },
  {
   "attachments": {},
   "cell_type": "markdown",
   "id": "d881338c",
   "metadata": {},
   "source": [
    "# What to expect in this chapter"
   ]
  },
  {
   "cell_type": "markdown",
   "id": "e3008692-3110-4aa1-8a86-1bc78f3c9637",
   "metadata": {},
   "source": [
    "Crafting my own function!!"
   ]
  },
  {
   "attachments": {},
   "cell_type": "markdown",
   "id": "e872704e",
   "metadata": {},
   "source": [
    "# 1 User-defined functions"
   ]
  },
  {
   "attachments": {},
   "cell_type": "markdown",
   "id": "3feae2ac",
   "metadata": {},
   "source": [
    "## Named Functions"
   ]
  },
  {
   "attachments": {},
   "cell_type": "markdown",
   "id": "ae326df4",
   "metadata": {},
   "source": [
    "### Named functions that return"
   ]
  },
  {
   "cell_type": "code",
   "execution_count": 1,
   "id": "8450c9ca-f627-416f-9f32-93f76d652aa0",
   "metadata": {},
   "outputs": [],
   "source": [
    "def greeting(name):\n",
    "    if name == 'Batman':\n",
    "        return 'Hello Batman! So, nice to meet you!'\n",
    "    else:\n",
    "        return f'Hello {name}!'"
   ]
  },
  {
   "cell_type": "code",
   "execution_count": 2,
   "id": "a8992314-2139-4f6c-abe1-30347bba7eb5",
   "metadata": {},
   "outputs": [
    {
     "data": {
      "text/plain": [
       "'Hello Super Man!'"
      ]
     },
     "execution_count": 2,
     "metadata": {},
     "output_type": "execute_result"
    }
   ],
   "source": [
    "# Method 1 of using the function greeting()\n",
    "\n",
    "greeting(\"Super Man\")"
   ]
  },
  {
   "cell_type": "code",
   "execution_count": 3,
   "id": "636c7385-42fe-4dc1-9538-c29767936bc8",
   "metadata": {},
   "outputs": [
    {
     "data": {
      "text/plain": [
       "'Hello Super Man!'"
      ]
     },
     "execution_count": 3,
     "metadata": {},
     "output_type": "execute_result"
    }
   ],
   "source": [
    "# Method 2 of using the function greeting()\n",
    "\n",
    "greeting(name=\"Super Man\")"
   ]
  },
  {
   "cell_type": "code",
   "execution_count": 4,
   "id": "7a709eb7-885d-43b1-b5a3-c6aea8087556",
   "metadata": {},
   "outputs": [
    {
     "name": "stdout",
     "output_type": "stream",
     "text": [
      "Hello Super Man!\n",
      "Hello Super Man!\n"
     ]
    }
   ],
   "source": [
    "# When Python sees a return keyword it jumps out of the function with the return value. \n",
    "# You can pick up the returned value by assigning it to a variable or even use it directly like:\n",
    "\n",
    "greet=greeting(name='Super Man')\n",
    "print(greet)\n",
    "\n",
    "# or\n",
    "\n",
    "print(greeting(name='Super Man'))"
   ]
  },
  {
   "cell_type": "markdown",
   "id": "8ee0c876-93ba-4e1e-a433-3d776711296e",
   "metadata": {},
   "source": [
    "##### NOTE: You can use `return` only within a function."
   ]
  },
  {
   "cell_type": "code",
   "execution_count": 8,
   "id": "98c30930-3220-41de-b6e2-1e27e34ec14d",
   "metadata": {},
   "outputs": [
    {
     "name": "stdout",
     "output_type": "stream",
     "text": [
      "5 1 3.0\n"
     ]
    }
   ],
   "source": [
    "# you can return almost anything\n",
    "import numpy as np\n",
    "def basic_stats(numbers):\n",
    "    np_numbers = np.array(numbers)\n",
    "    my_min = np_numbers.min()\n",
    "    my_max = np_numbers.max()\n",
    "    my_mean = np_numbers.mean()\n",
    "    return my_max, my_min, my_mean\n",
    "\n",
    "list_min, list_max, list_mean = basic_stats([1, 2, 3, 4, 5])\n",
    "print(list_min, list_max, list_mean)"
   ]
  },
  {
   "cell_type": "code",
   "execution_count": 23,
   "id": "1f3b3f8e-572d-48a7-b819-1d794ef6d2ad",
   "metadata": {},
   "outputs": [
    {
     "data": {
      "text/plain": [
       "'Nice colours!'"
      ]
     },
     "execution_count": 23,
     "metadata": {},
     "output_type": "execute_result"
    }
   ],
   "source": [
    "def colour(input): # remember the colons!\n",
    "    if input.lower() == 'white' or input.lower() == 'mint' or input.lower() == 'pastel': # remember the colons!\n",
    "        return 'Nice colours!' \n",
    "    elif input.lower() == 'pink': # remember the colons!\n",
    "        return 'Erm...?'\n",
    "    else:\n",
    "        return None\n",
    "\n",
    "colour('Mint')\n",
    "    "
   ]
  },
  {
   "cell_type": "code",
   "execution_count": 25,
   "id": "013382b4-7f81-4691-991a-23e8d40d01a6",
   "metadata": {},
   "outputs": [
    {
     "data": {
      "text/plain": [
       "'Erm...?'"
      ]
     },
     "execution_count": 25,
     "metadata": {},
     "output_type": "execute_result"
    }
   ],
   "source": [
    "colour('PINK')"
   ]
  },
  {
   "attachments": {},
   "cell_type": "markdown",
   "id": "d1c24e36",
   "metadata": {},
   "source": [
    "### Named functions that don’t return"
   ]
  },
  {
   "attachments": {},
   "cell_type": "markdown",
   "id": "b6f468e3",
   "metadata": {},
   "source": [
    "## Anonymous functions"
   ]
  },
  {
   "cell_type": "markdown",
   "id": "527fd544-3443-437e-9225-8142448d6cab",
   "metadata": {},
   "source": [
    "Anonymous or lambda functions are suitable for short one-liners."
   ]
  },
  {
   "cell_type": "code",
   "execution_count": 27,
   "id": "81ef6a44",
   "metadata": {},
   "outputs": [],
   "source": [
    "my_short_function = lambda name: f\"Hello {name}!\""
   ]
  },
  {
   "cell_type": "code",
   "execution_count": 28,
   "id": "49e6642c-2dfb-414b-b6bb-80dc3a81bdfb",
   "metadata": {},
   "outputs": [
    {
     "data": {
      "text/plain": [
       "'Hello Super Man!'"
      ]
     },
     "execution_count": 28,
     "metadata": {},
     "output_type": "execute_result"
    }
   ],
   "source": [
    "my_short_function(name=\"Super Man\")"
   ]
  },
  {
   "cell_type": "markdown",
   "id": "6478eb79-fb5c-4e72-ac9f-3c271802bd37",
   "metadata": {},
   "source": [
    "##### A lambda function always returns the value of the last statement."
   ]
  },
  {
   "cell_type": "code",
   "execution_count": 29,
   "id": "14d0ea07-8ff0-452e-8218-a081e2cdb52f",
   "metadata": {},
   "outputs": [],
   "source": [
    "numbers=[[9, 0, -10],\n",
    "         [8, 1, -11],\n",
    "         [7, 2, -12],\n",
    "         [6, 3, -13],\n",
    "         [5, 4, -14],\n",
    "         [4, 5, -15],\n",
    "         [3, 6, -16],\n",
    "         [2, 7, -17],\n",
    "         [1, 8, -18],\n",
    "         [0, 9, -19]]"
   ]
  },
  {
   "cell_type": "code",
   "execution_count": 33,
   "id": "0f802f83-2d8c-4e82-8ed6-9baf3bb4802e",
   "metadata": {},
   "outputs": [
    {
     "data": {
      "text/plain": [
       "[[0, 9, -19],\n",
       " [1, 8, -18],\n",
       " [2, 7, -17],\n",
       " [3, 6, -16],\n",
       " [4, 5, -15],\n",
       " [5, 4, -14],\n",
       " [6, 3, -13],\n",
       " [7, 2, -12],\n",
       " [8, 1, -11],\n",
       " [9, 0, -10]]"
      ]
     },
     "execution_count": 33,
     "metadata": {},
     "output_type": "execute_result"
    }
   ],
   "source": [
    "# Sort by comparing the default key (i.e., the 1st element, index 0)\n",
    "sorted(numbers)\n",
    "\n",
    "# The sublists are sorted in ascending order based on the first element of each sublist.\n",
    "# The first elements of the sublists are [0, 1, 2, 3, 4, 5, 6, 7, 8, 9].\n",
    "# The sublists are rearranged in ascending order according to these first elements."
   ]
  },
  {
   "cell_type": "code",
   "execution_count": 34,
   "id": "13a19607-2145-4d78-8e5c-24232855c61b",
   "metadata": {},
   "outputs": [
    {
     "data": {
      "text/plain": [
       "[[9, 0, -10],\n",
       " [8, 1, -11],\n",
       " [7, 2, -12],\n",
       " [6, 3, -13],\n",
       " [5, 4, -14],\n",
       " [4, 5, -15],\n",
       " [3, 6, -16],\n",
       " [2, 7, -17],\n",
       " [1, 8, -18],\n",
       " [0, 9, -19]]"
      ]
     },
     "execution_count": 34,
     "metadata": {},
     "output_type": "execute_result"
    }
   ],
   "source": [
    "# Sort by comparing a custom key that uses the 2nd element (index=1)\n",
    "sorted(numbers, key=lambda x: x[1])\n",
    "\n",
    "#The sublists are sorted in ascending order based on the second element of each sublist.\n",
    "#The second elements of the sublists are [0, 1, 2, 3, 4, 5, 6, 7, 8, 9].\n",
    "#The sublists are rearranged in ascending order according to these second elements.\n",
    "#Sublist refer for [9, 0, -10] which is one sublist, [8, 1, -11] which is another sublist"
   ]
  },
  {
   "cell_type": "code",
   "execution_count": 35,
   "id": "0766baff-fc35-4ebb-b7d9-d4d0430f0c5d",
   "metadata": {},
   "outputs": [
    {
     "data": {
      "text/plain": [
       "[[0, 9, -19],\n",
       " [1, 8, -18],\n",
       " [2, 7, -17],\n",
       " [3, 6, -16],\n",
       " [4, 5, -15],\n",
       " [5, 4, -14],\n",
       " [6, 3, -13],\n",
       " [7, 2, -12],\n",
       " [8, 1, -11],\n",
       " [9, 0, -10]]"
      ]
     },
     "execution_count": 35,
     "metadata": {},
     "output_type": "execute_result"
    }
   ],
   "source": [
    "#Sort by comparing a custom key that uses the sum of the elements.\n",
    "sorted(numbers, key=lambda x: sum(x))   \n",
    "\n",
    "#The sums of elements in the sublists are calculated: [-1, -2, -3, -4, -5, -6, -7, -8, -9, -10].\n",
    "#The sublists are then rearranged in ascending order based on these sums."
   ]
  },
  {
   "attachments": {},
   "cell_type": "markdown",
   "id": "bdf2e5c7",
   "metadata": {},
   "source": [
    "## Optional arguments"
   ]
  },
  {
   "cell_type": "code",
   "execution_count": 37,
   "id": "82bfeb83-e13a-4d1b-86a6-901168a7d09f",
   "metadata": {},
   "outputs": [],
   "source": [
    "#Make arguments to our function optional. \n",
    "#To do this, we need to give the argument a default value so that it always has something to work with.\n",
    "\n",
    "def greeting(name='no one'):\n",
    "    if name == 'Batman':\n",
    "        return 'Hello Batman! So, nice to meet you!'\n",
    "    else:\n",
    "        return f'Hello {name}!'"
   ]
  },
  {
   "cell_type": "code",
   "execution_count": 38,
   "id": "315f5f46-52c4-43e2-a95d-5e53dee3ff4c",
   "metadata": {},
   "outputs": [
    {
     "data": {
      "text/plain": [
       "'Hello no one!'"
      ]
     },
     "execution_count": 38,
     "metadata": {},
     "output_type": "execute_result"
    }
   ],
   "source": [
    "greeting()"
   ]
  },
  {
   "cell_type": "code",
   "execution_count": 39,
   "id": "45adcdb7-b5e8-4c34-a3ac-1ab173e786b0",
   "metadata": {},
   "outputs": [
    {
     "data": {
      "text/plain": [
       "\u001b[1;31mSignature:\u001b[0m \u001b[0mprint\u001b[0m\u001b[1;33m(\u001b[0m\u001b[1;33m*\u001b[0m\u001b[0margs\u001b[0m\u001b[1;33m,\u001b[0m \u001b[0msep\u001b[0m\u001b[1;33m=\u001b[0m\u001b[1;34m' '\u001b[0m\u001b[1;33m,\u001b[0m \u001b[0mend\u001b[0m\u001b[1;33m=\u001b[0m\u001b[1;34m'\\n'\u001b[0m\u001b[1;33m,\u001b[0m \u001b[0mfile\u001b[0m\u001b[1;33m=\u001b[0m\u001b[1;32mNone\u001b[0m\u001b[1;33m,\u001b[0m \u001b[0mflush\u001b[0m\u001b[1;33m=\u001b[0m\u001b[1;32mFalse\u001b[0m\u001b[1;33m)\u001b[0m\u001b[1;33m\u001b[0m\u001b[1;33m\u001b[0m\u001b[0m\n",
       "\u001b[1;31mDocstring:\u001b[0m\n",
       "Prints the values to a stream, or to sys.stdout by default.\n",
       "\n",
       "sep\n",
       "  string inserted between values, default a space.\n",
       "end\n",
       "  string appended after the last value, default a newline.\n",
       "file\n",
       "  a file-like object (stream); defaults to the current sys.stdout.\n",
       "flush\n",
       "  whether to forcibly flush the stream.\n",
       "\u001b[1;31mType:\u001b[0m      builtin_function_or_method"
      ]
     },
     "metadata": {},
     "output_type": "display_data"
    }
   ],
   "source": [
    "?print"
   ]
  },
  {
   "cell_type": "code",
   "execution_count": 40,
   "id": "c0bc8249-8f8a-4db2-b538-2498db69e756",
   "metadata": {},
   "outputs": [
    {
     "name": "stdout",
     "output_type": "stream",
     "text": [
      "I am Batman!\n",
      "I---am---Batman!\n"
     ]
    }
   ],
   "source": [
    "# Using default values\n",
    "print('I', 'am', 'Batman!')\n",
    "# Specifying an optional argument\n",
    "print('I', 'am', 'Batman!', sep='---')  "
   ]
  },
  {
   "cell_type": "code",
   "execution_count": 2,
   "id": "6ed0a635-eecb-4fad-8fcc-ee230cb2ed21",
   "metadata": {},
   "outputs": [
    {
     "name": "stdout",
     "output_type": "stream",
     "text": [
      "I am Batman!CAP!"
     ]
    }
   ],
   "source": [
    "print('I', 'am', 'Batman!', end = 'CAP!')"
   ]
  },
  {
   "cell_type": "code",
   "execution_count": 3,
   "id": "5dc59995-8697-4026-975a-3546650733c7",
   "metadata": {},
   "outputs": [
    {
     "name": "stdout",
     "output_type": "stream",
     "text": [
      "I      am      Batman!\n"
     ]
    }
   ],
   "source": [
    "print('I', 'am', 'Batman!', sep='      ') "
   ]
  },
  {
   "cell_type": "markdown",
   "id": "b4b80c7f-a5fa-4df5-b932-4a4a000e1642",
   "metadata": {},
   "source": [
    "#### Remember:\n",
    "\n",
    "You can define your own functions,\n",
    "functions can have optional arguments,\n",
    "functions don’t always have to return anything."
   ]
  },
  {
   "attachments": {},
   "cell_type": "markdown",
   "id": "04eff86e",
   "metadata": {},
   "source": [
    "## The importance of functions?"
   ]
  },
  {
   "attachments": {},
   "cell_type": "markdown",
   "id": "cbb21d9b",
   "metadata": {},
   "source": [
    "### An argument for functions"
   ]
  },
  {
   "cell_type": "markdown",
   "id": "bee10445-1d22-4dfb-9e70-dcfdf6728b03",
   "metadata": {},
   "source": [
    "1) It is easier to focus on your overall solution because you are not distracted by unnecessary information. This hiding of ‘stuff’ is called abstraction in computer science lingo.\n",
    "\n",
    "2) If you encapsulate a chunk of code in a function, it becomes straightforward to reuse it instead of copying and pasting at different places. This means your code will be shorter and more compact.\n",
    "\n",
    "3) Your code is easier to change and maintain because you only need to make changes in one place, at the function definition"
   ]
  },
  {
   "attachments": {},
   "cell_type": "markdown",
   "id": "c44712bc",
   "metadata": {},
   "source": [
    "### A word of caution"
   ]
  },
  {
   "cell_type": "markdown",
   "id": "d90df818-31f8-4cd8-97ab-d39e523b275f",
   "metadata": {},
   "source": [
    "There are many instances where **functions are abused**; for example, by trying to do too many things or having too many arguments. They can also be **overused**. Having too many functions can make it _difficult to read your code_ and also _increase computational overheads_. You will get a better feel for when to use functions with experience, but please bear in mind that functions can be misused.\n"
   ]
  },
  {
   "cell_type": "code",
   "execution_count": null,
   "id": "163f85eb-3165-4546-b141-55eaab164bcc",
   "metadata": {},
   "outputs": [],
   "source": []
  }
 ],
 "metadata": {
  "kernelspec": {
   "display_name": "Python 3 (ipykernel)",
   "language": "python",
   "name": "python3"
  },
  "language_info": {
   "codemirror_mode": {
    "name": "ipython",
    "version": 3
   },
   "file_extension": ".py",
   "mimetype": "text/x-python",
   "name": "python",
   "nbconvert_exporter": "python",
   "pygments_lexer": "ipython3",
   "version": "3.11.5"
  },
  "toc": {
   "base_numbering": 1,
   "nav_menu": {},
   "number_sections": true,
   "sideBar": true,
   "skip_h1_title": false,
   "title_cell": "Table of Contents",
   "title_sidebar": "Contents",
   "toc_cell": false,
   "toc_position": {},
   "toc_section_display": true,
   "toc_window_display": false
  },
  "vscode": {
   "interpreter": {
    "hash": "31f2aee4e71d21fbe5cf8b01ff0e069b9275f58929596ceb00d14d90e3e16cd6"
   }
  }
 },
 "nbformat": 4,
 "nbformat_minor": 5
}
