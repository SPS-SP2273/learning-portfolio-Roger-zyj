{
 "cells": [
  {
   "attachments": {},
   "cell_type": "markdown",
   "id": "123456",
   "metadata": {},
   "source": [
    "<div style=\"text-align:left;font-size:2em\"><span style=\"font-weight:bolder;font-size:1.25em\">SP2273 | Learning Portfolio</span><br><br><span style=\"font-weight:bold;color:darkred\">Fundamentals (Need)</span></div>"
   ]
  },
  {
   "attachments": {},
   "cell_type": "markdown",
   "id": "40386383",
   "metadata": {},
   "source": [
    "# What to expect in this chapter"
   ]
  },
  {
   "attachments": {},
   "cell_type": "markdown",
   "id": "e29991ca",
   "metadata": {},
   "source": [
    "# 1 Functions"
   ]
  },
  {
   "cell_type": "code",
   "execution_count": 4,
   "id": "c646d66b-0082-43cd-8545-ae57cd01b822",
   "metadata": {},
   "outputs": [
    {
     "name": "stdout",
     "output_type": "stream",
     "text": [
      "Hello world!\n"
     ]
    }
   ],
   "source": [
    "print('Hello world!')"
   ]
  },
  {
   "attachments": {},
   "cell_type": "markdown",
   "id": "6ae6e776",
   "metadata": {},
   "source": [
    "# 2 Remember"
   ]
  },
  {
   "cell_type": "markdown",
   "id": "3590320b-b3cb-4ab6-94cd-753e45627191",
   "metadata": {},
   "source": [
    "A function is ‘something’ that executes a specific task.\n",
    "\n",
    "A function may or may not accept arguments.\n",
    "\n",
    "We can define our own functions.\n",
    "\n",
    "Refer to [SP2273 Website](https://sps.nus.edu.sg/sp2273/docs/python_basics/02_basics/1_basics_need.html) for more information "
   ]
  },
  {
   "attachments": {},
   "cell_type": "markdown",
   "id": "e87ea383",
   "metadata": {},
   "source": [
    "# 3 Python is interpreted"
   ]
  },
  {
   "cell_type": "code",
   "execution_count": 5,
   "id": "ff7e1c2b-fd48-4dc5-99fa-d5bafba1982f",
   "metadata": {},
   "outputs": [
    {
     "name": "stdout",
     "output_type": "stream",
     "text": [
      "Hello World\n",
      "Hello World again\n"
     ]
    }
   ],
   "source": [
    "print('Hello World')\n",
    "print('Hello World again')"
   ]
  },
  {
   "attachments": {},
   "cell_type": "markdown",
   "id": "ecfae3a9",
   "metadata": {},
   "source": [
    "# 4 Python is sensitive."
   ]
  },
  {
   "cell_type": "code",
   "execution_count": 6,
   "id": "0c4fb941-1ec8-4e86-b1d5-084afb792c05",
   "metadata": {},
   "outputs": [
    {
     "name": "stdout",
     "output_type": "stream",
     "text": [
      "Hello World\n"
     ]
    },
    {
     "ename": "NameError",
     "evalue": "name 'Print' is not defined",
     "output_type": "error",
     "traceback": [
      "\u001b[0;31m---------------------------------------------------------------------------\u001b[0m",
      "\u001b[0;31mNameError\u001b[0m                                 Traceback (most recent call last)",
      "Cell \u001b[0;32mIn[6], line 2\u001b[0m\n\u001b[1;32m      1\u001b[0m \u001b[38;5;28mprint\u001b[39m(\u001b[38;5;124m'\u001b[39m\u001b[38;5;124mHello World\u001b[39m\u001b[38;5;124m'\u001b[39m)      \u001b[38;5;66;03m# This WILL work\u001b[39;00m\n\u001b[0;32m----> 2\u001b[0m \u001b[43mPrint\u001b[49m(\u001b[38;5;124m'\u001b[39m\u001b[38;5;124mHello World\u001b[39m\u001b[38;5;124m'\u001b[39m)      \u001b[38;5;66;03m# This will NOT work\u001b[39;00m\n",
      "\u001b[0;31mNameError\u001b[0m: name 'Print' is not defined"
     ]
    }
   ],
   "source": [
    "print('Hello World')      # This WILL work\n",
    "Print('Hello World')      # This will NOT work"
   ]
  },
  {
   "attachments": {},
   "cell_type": "markdown",
   "id": "7f04bfd0",
   "metadata": {},
   "source": [
    "# 5 Remember"
   ]
  },
  {
   "cell_type": "markdown",
   "id": "e0f71199-29ac-4d45-a75f-ce0e3cf27b07",
   "metadata": {},
   "source": [
    "python is case-sensitive"
   ]
  },
  {
   "attachments": {},
   "cell_type": "markdown",
   "id": "6d3229e3",
   "metadata": {},
   "source": [
    "# 6 Comments"
   ]
  },
  {
   "cell_type": "code",
   "execution_count": null,
   "id": "f029939e-b1e4-48f0-9ee8-bb111946bd1f",
   "metadata": {},
   "outputs": [
    {
     "name": "stdout",
     "output_type": "stream",
     "text": [
      "One\n",
      "Three\n"
     ]
    }
   ],
   "source": [
    "# This is a comment\n",
    "print('One')              # This is a comment.\n",
    "# print('Two')            # The interpreter ignores this line.\n",
    "print('Three')            # This is\n",
    "                          # also a way to\n",
    "                          # write comments"
   ]
  },
  {
   "cell_type": "code",
   "execution_count": null,
   "id": "469ba57c-5e93-445b-982f-09f98e93c16e",
   "metadata": {},
   "outputs": [
    {
     "name": "stdout",
     "output_type": "stream",
     "text": [
      "Hello world\n"
     ]
    }
   ],
   "source": [
    "print(\"Hello world\" )     # Printing \"Hello World.\""
   ]
  },
  {
   "attachments": {},
   "cell_type": "markdown",
   "id": "4c65f3d0",
   "metadata": {},
   "source": [
    "# 7 Remember"
   ]
  },
  {
   "cell_type": "markdown",
   "id": "551129df-7a02-4898-9b82-ef7dc8fd85b4",
   "metadata": {},
   "source": [
    "Use comments to emphasize the purpose of the code."
   ]
  },
  {
   "attachments": {},
   "cell_type": "markdown",
   "id": "8ec7d1a2",
   "metadata": {},
   "source": [
    "# 8 = is not the same as =="
   ]
  },
  {
   "cell_type": "code",
   "execution_count": null,
   "id": "8297b78c-2c0b-4883-9263-9f73d8302a80",
   "metadata": {},
   "outputs": [],
   "source": [
    "name = 'Batman'   # Make name carry 'Batman'"
   ]
  },
  {
   "cell_type": "code",
   "execution_count": null,
   "id": "4d70cd70-cb01-4604-b0e6-f0cb64e90b75",
   "metadata": {},
   "outputs": [
    {
     "data": {
      "text/plain": [
       "True"
      ]
     },
     "execution_count": 9,
     "metadata": {},
     "output_type": "execute_result"
    }
   ],
   "source": [
    "name == 'Batman'  # Tell me if name is equal to 'Batman'?\n",
    "                  # Answer:  True or False"
   ]
  },
  {
   "attachments": {},
   "cell_type": "markdown",
   "id": "a9fda9de",
   "metadata": {},
   "source": [
    "# 9 Remember"
   ]
  },
  {
   "cell_type": "markdown",
   "id": "c0a4ab9b-7d19-4270-98a4-e6153c5936ff",
   "metadata": {},
   "source": [
    "`=` is not the same as `==`.\n",
    "\n",
    "`=` assigns a value and\n",
    "\n",
    "`==` asks a question."
   ]
  },
  {
   "attachments": {},
   "cell_type": "markdown",
   "id": "d1a9e5eb",
   "metadata": {},
   "source": [
    "# 10 Use if to make decisions"
   ]
  },
  {
   "cell_type": "code",
   "execution_count": null,
   "id": "ac94b1ed-f289-4b55-9f4b-957cf719f933",
   "metadata": {},
   "outputs": [
    {
     "name": "stdout",
     "output_type": "stream",
     "text": [
      "Hello Batman!\n"
     ]
    }
   ],
   "source": [
    "name = 'Batman'\n",
    "\n",
    "if name == 'Batman':\n",
    "    print('Hello Batman!')\n",
    "else:\n",
    "    print('Hello World!')"
   ]
  },
  {
   "attachments": {},
   "cell_type": "markdown",
   "id": "fc817c72",
   "metadata": {},
   "source": [
    "# 11 Remember"
   ]
  },
  {
   "cell_type": "markdown",
   "id": "7acbe273-4dc8-4c3e-8b45-cf3921ccf127",
   "metadata": {},
   "source": [
    "You can use if to make decisions."
   ]
  },
  {
   "attachments": {},
   "cell_type": "markdown",
   "id": "d810f1d8",
   "metadata": {},
   "source": [
    "# 12 Indentations (spaces) are sooo IMPORTANT!"
   ]
  },
  {
   "cell_type": "code",
   "execution_count": null,
   "id": "ccf1f407-925c-436a-90d3-7aafe35d536c",
   "metadata": {},
   "outputs": [
    {
     "name": "stdout",
     "output_type": "stream",
     "text": [
      "10\n"
     ]
    }
   ],
   "source": [
    "x = 10\n",
    "print(x)"
   ]
  },
  {
   "cell_type": "code",
   "execution_count": null,
   "id": "1f2a4690-5d10-41ae-b3fb-26e8f93b51d0",
   "metadata": {},
   "outputs": [
    {
     "ename": "IndentationError",
     "evalue": "unexpected indent (1537435392.py, line 2)",
     "output_type": "error",
     "traceback": [
      "\u001b[1;36m  Cell \u001b[1;32mIn[12], line 2\u001b[1;36m\u001b[0m\n\u001b[1;33m    print(x)\u001b[0m\n\u001b[1;37m    ^\u001b[0m\n\u001b[1;31mIndentationError\u001b[0m\u001b[1;31m:\u001b[0m unexpected indent\n"
     ]
    }
   ],
   "source": [
    "x = 10\n",
    " print(x)"
   ]
  },
  {
   "attachments": {},
   "cell_type": "markdown",
   "id": "3ae2bfbf",
   "metadata": {},
   "source": [
    "# 13 Remember"
   ]
  },
  {
   "cell_type": "markdown",
   "id": "5e749833-5304-4992-afcb-1dfc1581c572",
   "metadata": {},
   "source": [
    "Indentations play a crucial role in Python; do not use them indiscriminately.\n",
    "    \n",
    ": is used to designate a block of code.\n",
    "\n",
    "Don’t mix spaces and tabs!\n",
    "Make it easy for yourself; just use the tab key consistently."
   ]
  },
  {
   "attachments": {},
   "cell_type": "markdown",
   "id": "b58f8ef8",
   "metadata": {},
   "source": [
    "# 14 ‘age’ is English, age is a variable."
   ]
  },
  {
   "cell_type": "code",
   "execution_count": null,
   "id": "3bb3f69e-9cf6-4ca7-be9a-6334571cf2db",
   "metadata": {},
   "outputs": [
    {
     "ename": "NameError",
     "evalue": "name 'age' is not defined",
     "output_type": "error",
     "traceback": [
      "\u001b[1;31m---------------------------------------------------------------------------\u001b[0m",
      "\u001b[1;31mNameError\u001b[0m                                 Traceback (most recent call last)",
      "Cell \u001b[1;32mIn[13], line 1\u001b[0m\n\u001b[1;32m----> 1\u001b[0m \u001b[38;5;28mprint\u001b[39m(\u001b[43mage\u001b[49m)       \u001b[38;5;66;03m# Print the value of the variable age\u001b[39;00m\n\u001b[0;32m      2\u001b[0m \u001b[38;5;28mprint\u001b[39m(\u001b[38;5;124m\"\u001b[39m\u001b[38;5;124mage\u001b[39m\u001b[38;5;124m\"\u001b[39m)     \u001b[38;5;66;03m# Print the English word 'age'\u001b[39;00m\n",
      "\u001b[1;31mNameError\u001b[0m: name 'age' is not defined"
     ]
    }
   ],
   "source": [
    "print(age)       # Print the value of the variable age\n",
    "print(\"age\")     # Print the English word 'age'"
   ]
  },
  {
   "cell_type": "code",
   "execution_count": null,
   "id": "527514f3-1a0c-4689-acfa-949e38175a47",
   "metadata": {},
   "outputs": [
    {
     "name": "stdout",
     "output_type": "stream",
     "text": [
      "10\n"
     ]
    }
   ],
   "source": [
    "age = 10\n",
    "print(age)"
   ]
  },
  {
   "cell_type": "code",
   "execution_count": null,
   "id": "69809701-210e-403c-8f47-9a6b4594d0ac",
   "metadata": {},
   "outputs": [
    {
     "name": "stdout",
     "output_type": "stream",
     "text": [
      "You're twenty years old.\n"
     ]
    }
   ],
   "source": [
    "print(\"You're twenty years old.\")"
   ]
  },
  {
   "attachments": {},
   "cell_type": "markdown",
   "id": "0658d37e",
   "metadata": {},
   "source": [
    "# 15 Brackets"
   ]
  },
  {
   "cell_type": "code",
   "execution_count": null,
   "id": "49f5a8ea-3fae-4a74-b04f-66680e178e75",
   "metadata": {},
   "outputs": [
    {
     "name": "stdout",
     "output_type": "stream",
     "text": [
      "Hello!\n"
     ]
    }
   ],
   "source": [
    "print('Hello!')             # In functions"
   ]
  },
  {
   "cell_type": "code",
   "execution_count": null,
   "id": "33f06f23-f815-4bd9-a984-9f03f5d5a266",
   "metadata": {},
   "outputs": [
    {
     "data": {
      "text/plain": [
       "15"
      ]
     },
     "execution_count": 17,
     "metadata": {},
     "output_type": "execute_result"
    }
   ],
   "source": [
    "(1 + 2) * 5                 # For math"
   ]
  },
  {
   "cell_type": "code",
   "execution_count": null,
   "id": "270696d9-11b3-45ca-98c6-e3314eec1ed1",
   "metadata": {},
   "outputs": [],
   "source": [
    "py_list = [1, 2, 3, 4, 5]   # A 1D list\n",
    "\n",
    "py_list_2 = [               # A 2D list\n",
    "                [1, \"A\"],      \n",
    "                [2, \"B\"],\n",
    "                [3, \"C\"],\n",
    "                [4, \"D\"],\n",
    "                [5, \"E\"]\n",
    "            ]"
   ]
  },
  {
   "cell_type": "code",
   "execution_count": null,
   "id": "9b506d5f-53b6-482d-803f-3a025c9a946a",
   "metadata": {},
   "outputs": [],
   "source": [
    "personal_info = {\n",
    "    'Names': 'Batman',\n",
    "    'Real Name': 'Bruce Wayne',\n",
    "    'Age': 55,\n",
    "    'Affiliation': 'Justice League',\n",
    "    'Universe': 'DC'\n",
    "}"
   ]
  },
  {
   "cell_type": "code",
   "execution_count": null,
   "id": "963594c0-86dd-4b03-9b5c-8e0bb3d55f3f",
   "metadata": {},
   "outputs": [
    {
     "name": "stdout",
     "output_type": "stream",
     "text": [
      "Bruce Wayne\n"
     ]
    }
   ],
   "source": [
    "print(personal_info['Real Name'])    "
   ]
  },
  {
   "attachments": {},
   "cell_type": "markdown",
   "id": "3ba2f146",
   "metadata": {},
   "source": [
    "# 16 Giving Python superpowers with Packages"
   ]
  },
  {
   "attachments": {},
   "cell_type": "markdown",
   "id": "7e1ddc6a",
   "metadata": {},
   "source": [
    "## 16.1 Some Context"
   ]
  },
  {
   "cell_type": "code",
   "execution_count": null,
   "id": "0bfa5aba-4a96-4b77-91d0-08e0e14f3e50",
   "metadata": {},
   "outputs": [
    {
     "data": {
      "text/plain": [
       "40.5"
      ]
     },
     "execution_count": 21,
     "metadata": {},
     "output_type": "execute_result"
    }
   ],
   "source": [
    "1 * ((2 - 3) + 4) ** 5 / 6"
   ]
  },
  {
   "cell_type": "code",
   "execution_count": null,
   "id": "8f70e4d6-e740-4a02-8be2-4b4d2685c031",
   "metadata": {},
   "outputs": [
    {
     "ename": "NameError",
     "evalue": "name 'sqrt' is not defined",
     "output_type": "error",
     "traceback": [
      "\u001b[1;31m---------------------------------------------------------------------------\u001b[0m",
      "\u001b[1;31mNameError\u001b[0m                                 Traceback (most recent call last)",
      "Cell \u001b[1;32mIn[22], line 1\u001b[0m\n\u001b[1;32m----> 1\u001b[0m \u001b[43msqrt\u001b[49m(\u001b[38;5;241m4\u001b[39m)      \u001b[38;5;66;03m# Will NOT work because \u001b[39;00m\n\u001b[0;32m      2\u001b[0m              \u001b[38;5;66;03m# basic Python is limited\u001b[39;00m\n",
      "\u001b[1;31mNameError\u001b[0m: name 'sqrt' is not defined"
     ]
    }
   ],
   "source": [
    "sqrt(4)      # Will NOT work because \n",
    "             # basic Python is limited"
   ]
  },
  {
   "attachments": {},
   "cell_type": "markdown",
   "id": "47592d44",
   "metadata": {},
   "source": [
    "## 16.2 Importing the math package"
   ]
  },
  {
   "cell_type": "code",
   "execution_count": null,
   "id": "e1dba95a-1a05-4b13-a806-252883636996",
   "metadata": {},
   "outputs": [],
   "source": [
    "import math         # Adding(importing) the functions\n",
    "                    # of the 'math' package    "
   ]
  },
  {
   "cell_type": "code",
   "execution_count": null,
   "id": "67e8a782-d7f0-4c76-817b-af8e376b2727",
   "metadata": {},
   "outputs": [
    {
     "data": {
      "text/plain": [
       "2.0"
      ]
     },
     "execution_count": 2,
     "metadata": {},
     "output_type": "execute_result"
    }
   ],
   "source": [
    "math.sqrt(4)"
   ]
  },
  {
   "attachments": {},
   "cell_type": "markdown",
   "id": "85bc659e",
   "metadata": {},
   "source": [
    "## 16.3 Importing the numpy package"
   ]
  },
  {
   "cell_type": "code",
   "execution_count": null,
   "id": "fd5547dd-6fbf-4e8b-a378-7d87dc1e4999",
   "metadata": {},
   "outputs": [
    {
     "data": {
      "text/plain": [
       "2.0"
      ]
     },
     "execution_count": 4,
     "metadata": {},
     "output_type": "execute_result"
    }
   ],
   "source": [
    "\n",
    "import numpy as np    # Importing Numpy and giving \n",
    "                      # it an alias np \n",
    "                      # because I am lazy\n",
    "np.sqrt(4)"
   ]
  },
  {
   "attachments": {},
   "cell_type": "markdown",
   "id": "73cae14b",
   "metadata": {},
   "source": [
    "## 16.4 Why so many packages?"
   ]
  },
  {
   "cell_type": "code",
   "execution_count": null,
   "id": "31dbfac0-b391-4ccc-9f82-dd9a9d80542f",
   "metadata": {},
   "outputs": [
    {
     "data": {
      "text/plain": [
       "array([2., 3., 4.])"
      ]
     },
     "execution_count": 5,
     "metadata": {},
     "output_type": "execute_result"
    }
   ],
   "source": [
    "np.sqrt([4, 9, 16])"
   ]
  },
  {
   "attachments": {},
   "cell_type": "markdown",
   "id": "28d8bb1e",
   "metadata": {},
   "source": [
    "# 17 Remember"
   ]
  },
  {
   "cell_type": "markdown",
   "id": "598abd05-aa4f-4ea3-9760-df7a0399a916",
   "metadata": {},
   "source": [
    "You can give Python ‘superpowers’ by importing packages.\n",
    "    \n",
    "You only need to import a package once.\n",
    "    \n",
    "There are different ways to import packages (e.g. with or without an ‘alias’)."
   ]
  },
  {
   "attachments": {},
   "cell_type": "markdown",
   "id": "5ab9a777",
   "metadata": {},
   "source": [
    "# 18 The dot (.)"
   ]
  },
  {
   "cell_type": "code",
   "execution_count": null,
   "id": "de5f5d29-7f8e-42c2-ba0d-57aab039a704",
   "metadata": {},
   "outputs": [
    {
     "data": {
      "text/plain": [
       "2.0"
      ]
     },
     "execution_count": 6,
     "metadata": {},
     "output_type": "execute_result"
    }
   ],
   "source": [
    "math.sqrt(4)\n",
    "np.sqrt(4)"
   ]
  },
  {
   "cell_type": "code",
   "execution_count": null,
   "id": "5fb12ae3-5cd0-47b4-af5b-1b76b2901527",
   "metadata": {},
   "outputs": [
    {
     "data": {
      "text/plain": [
       "['I', 'am', 'Batman']"
      ]
     },
     "execution_count": 7,
     "metadata": {},
     "output_type": "execute_result"
    }
   ],
   "source": [
    "\"I am Batman\".split()"
   ]
  },
  {
   "cell_type": "code",
   "execution_count": null,
   "id": "e3acefa7-8f83-4263-85c5-255c1f9f7e50",
   "metadata": {},
   "outputs": [
    {
     "ename": "SyntaxError",
     "evalue": "invalid decimal literal (3897031440.py, line 1)",
     "output_type": "error",
     "traceback": [
      "\u001b[1;36m  Cell \u001b[1;32mIn[8], line 1\u001b[1;36m\u001b[0m\n\u001b[1;33m    1234.split()\u001b[0m\n\u001b[1;37m        ^\u001b[0m\n\u001b[1;31mSyntaxError\u001b[0m\u001b[1;31m:\u001b[0m invalid decimal literal\n"
     ]
    }
   ],
   "source": [
    "1234.split()"
   ]
  },
  {
   "attachments": {},
   "cell_type": "markdown",
   "id": "b15a3fed",
   "metadata": {},
   "source": [
    "# 19 Remember"
   ]
  },
  {
   "cell_type": "markdown",
   "id": "256b6f6f-80b7-41aa-916d-dfadea6febd4",
   "metadata": {},
   "source": [
    "The dot(.) indicates ownership, and what it can access depends on the context."
   ]
  },
  {
   "attachments": {},
   "cell_type": "markdown",
   "id": "97e3b65a",
   "metadata": {},
   "source": [
    "## Footnotes"
   ]
  }
 ],
 "metadata": {
  "kernelspec": {
   "display_name": "Python 3 (ipykernel)",
   "language": "python",
   "name": "python3"
  },
  "language_info": {
   "codemirror_mode": {
    "name": "ipython",
    "version": 3
   },
   "file_extension": ".py",
   "mimetype": "text/x-python",
   "name": "python",
   "nbconvert_exporter": "python",
   "pygments_lexer": "ipython3",
   "version": "3.11.5"
  },
  "toc": {
   "base_numbering": 1,
   "nav_menu": {},
   "number_sections": true,
   "sideBar": true,
   "skip_h1_title": false,
   "title_cell": "Table of Contents",
   "title_sidebar": "Contents",
   "toc_cell": false,
   "toc_position": {},
   "toc_section_display": true,
   "toc_window_display": false
  },
  "vscode": {
   "interpreter": {
    "hash": "31f2aee4e71d21fbe5cf8b01ff0e069b9275f58929596ceb00d14d90e3e16cd6"
   }
  }
 },
 "nbformat": 4,
 "nbformat_minor": 5
}
