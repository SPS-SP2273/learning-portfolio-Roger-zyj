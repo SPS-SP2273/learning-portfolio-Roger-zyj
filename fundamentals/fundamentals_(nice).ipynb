{
 "cells": [
  {
   "attachments": {},
   "cell_type": "markdown",
   "id": "123456",
   "metadata": {},
   "source": [
    "<div style=\"text-align:left;font-size:2em\"><span style=\"font-weight:bolder;font-size:1.25em\">SP2273 | Learning Portfolio</span><br><br><span style=\"font-weight:bold;color:darkred\">Fundamentals (Nice)</span></div>"
   ]
  },
  {
   "attachments": {},
   "cell_type": "markdown",
   "id": "4e499427",
   "metadata": {},
   "source": [
    "# 1 If if is not enough"
   ]
  },
  {
   "cell_type": "code",
   "execution_count": 2,
   "id": "d41440f5-d273-4c49-af84-61037128a9dd",
   "metadata": {},
   "outputs": [
    {
     "name": "stdout",
     "output_type": "stream",
     "text": [
      "Hello Hero | Batman!\n"
     ]
    }
   ],
   "source": [
    "name = 'Batman'\n",
    "\n",
    "match name:\n",
    "    case 'Batman':\n",
    "        print('Hello Hero | Batman!')\n",
    "    case 'Robin':\n",
    "        print('Hello Sidekick | Robin!')\n",
    "    case _:\n",
    "        print('Hello World!')"
   ]
  },
  {
   "attachments": {},
   "cell_type": "markdown",
   "id": "ce614881",
   "metadata": {},
   "source": [
    "# 2 Ternary operators or Conditional Statements"
   ]
  },
  {
   "cell_type": "code",
   "execution_count": 3,
   "id": "8e08325e-6c87-4d89-b63f-4068bc58d802",
   "metadata": {},
   "outputs": [
    {
     "ename": "NameError",
     "evalue": "name 'nationality' is not defined",
     "output_type": "error",
     "traceback": [
      "\u001b[0;31m---------------------------------------------------------------------------\u001b[0m",
      "\u001b[0;31mNameError\u001b[0m                                 Traceback (most recent call last)",
      "Cell \u001b[0;32mIn[3], line 3\u001b[0m\n\u001b[1;32m      1\u001b[0m \u001b[38;5;66;03m# one way\u001b[39;00m\n\u001b[0;32m----> 3\u001b[0m \u001b[38;5;28;01mif\u001b[39;00m \u001b[43mnationality\u001b[49m \u001b[38;5;241m==\u001b[39m \u001b[38;5;124m'\u001b[39m\u001b[38;5;124mFrench\u001b[39m\u001b[38;5;124m'\u001b[39m:\n\u001b[1;32m      4\u001b[0m     greeting \u001b[38;5;241m=\u001b[39m \u001b[38;5;124m\"\u001b[39m\u001b[38;5;124mBonjour!\u001b[39m\u001b[38;5;124m\"\u001b[39m\n\u001b[1;32m      5\u001b[0m \u001b[38;5;28;01melse\u001b[39;00m:\n",
      "\u001b[0;31mNameError\u001b[0m: name 'nationality' is not defined"
     ]
    }
   ],
   "source": [
    "# one way\n",
    "\n",
    "if nationality == 'French':\n",
    "    greeting = \"Bonjour!\"\n",
    "else:\n",
    "    greeting = \"Hello!\"\n",
    "\n",
    "# another way \n",
    "\n",
    "greeting = \"Bonjour!\" if nationality == 'French' else \"Hello!\"\n",
    "\n",
    "# and another way \n",
    "\n",
    "(\"Bonjour!\", \"Hello!\")[nationality == 'French']"
   ]
  },
  {
   "cell_type": "code",
   "execution_count": null,
   "id": "fa93a6ec-2625-4c9e-a601-ca60476a826f",
   "metadata": {},
   "outputs": [
    {
     "data": {
      "text/plain": [
       "'Hello!'"
      ]
     },
     "execution_count": 1,
     "metadata": {},
     "output_type": "execute_result"
    }
   ],
   "source": [
    "nationality = 'French'\n",
    "(\"Bonjour!\", \"Hello!\")[nationality == 'French']"
   ]
  },
  {
   "cell_type": "markdown",
   "id": "7f689980-af27-473b-addf-68fd68d1c416",
   "metadata": {},
   "source": [
    "In the above cell, the output is 'Hello'. `nationality` is assigned to the value `'French'` in the first line of code. In the second line of code, `[nationality == 'French']` evaluates to True. Based on the Boolean value, True = 1 and False = 0. Hence, the second index of the tuple `'Hello'` will be printed (since python counts from zero).  "
   ]
  },
  {
   "cell_type": "code",
   "execution_count": null,
   "id": "8de1d0cc-887d-4744-b245-a1bbcbfc2469",
   "metadata": {},
   "outputs": [],
   "source": [
    "text = None\n",
    "message = text or \"No message!\""
   ]
  },
  {
   "attachments": {},
   "cell_type": "markdown",
   "id": "f23ec8aa",
   "metadata": {},
   "source": [
    "# 3 Swapping values"
   ]
  },
  {
   "cell_type": "code",
   "execution_count": null,
   "id": "a34d2ea1-5ada-4154-98e6-5e1b686e94ef",
   "metadata": {},
   "outputs": [
    {
     "name": "stdout",
     "output_type": "stream",
     "text": [
      "2 1\n"
     ]
    }
   ],
   "source": [
    "a, b = 1, 2\n",
    "a, b = b, a\n",
    "print(a, b)"
   ]
  },
  {
   "attachments": {},
   "cell_type": "markdown",
   "id": "228fd002",
   "metadata": {},
   "source": [
    "# 4 There are more types"
   ]
  },
  {
   "cell_type": "code",
   "execution_count": null,
   "id": "41828d5f-9d06-4514-a3d0-147f97b3673f",
   "metadata": {},
   "outputs": [
    {
     "name": "stdout",
     "output_type": "stream",
     "text": [
      "float          : 2.220446049250313e-16\n",
      "float16        : 0.000977\n",
      "float32        : 1.1920929e-07\n",
      "float64        : 2.220446049250313e-16\n"
     ]
    }
   ],
   "source": [
    "import numpy as np\n",
    "\n",
    "my_types = [\n",
    "    float,       # Default for core Python on my machine\n",
    "    np.float16,\n",
    "    np.float32,\n",
    "    np.float64\n",
    "]\n",
    "\n",
    "for my_type in my_types:\n",
    "    print(f'{my_type.__name__:<15s}:', np.finfo(my_type).eps)"
   ]
  },
  {
   "attachments": {},
   "cell_type": "markdown",
   "id": "1b877d32",
   "metadata": {},
   "source": [
    "# 5 Operator precedance"
   ]
  },
  {
   "cell_type": "markdown",
   "id": "21374531-6207-43e9-9518-1ab46ccd4b7a",
   "metadata": {},
   "source": [
    "Ref to [SP2273 Website - Fundamentals (nice)](https://sps.nus.edu.sg/sp2273/docs/python_basics/02_basics/3_basics_nice.html)"
   ]
  },
  {
   "attachments": {},
   "cell_type": "markdown",
   "id": "8e8e0206",
   "metadata": {},
   "source": [
    "# 6 Variables in Python are just names"
   ]
  },
  {
   "attachments": {},
   "cell_type": "markdown",
   "id": "59aa0b97",
   "metadata": {},
   "source": [
    "## 6.1 The Problem"
   ]
  },
  {
   "cell_type": "code",
   "execution_count": null,
   "id": "ec645c6d-7bf4-4c28-9c54-62f1f04370cf",
   "metadata": {},
   "outputs": [
    {
     "name": "stdout",
     "output_type": "stream",
     "text": [
      "x: [1, 2, 3], y: [1, 2, 3]\n"
     ]
    }
   ],
   "source": [
    "x = [1, 2]\n",
    "y = x\n",
    "y.append(3)\n",
    "\n",
    "print(f\"x: {x}, y: {y}\")"
   ]
  },
  {
   "attachments": {},
   "cell_type": "markdown",
   "id": "cdc2e3e6",
   "metadata": {},
   "source": [
    "## 6.2 An explanation"
   ]
  },
  {
   "cell_type": "code",
   "execution_count": null,
   "id": "32e08ea5-c1c0-4f22-a48a-06d8a20fce48",
   "metadata": {},
   "outputs": [
    {
     "data": {
      "text/plain": [
       "'CODE 1'"
      ]
     },
     "execution_count": 10,
     "metadata": {},
     "output_type": "execute_result"
    }
   ],
   "source": [
    "'''CODE 1'''"
   ]
  },
  {
   "cell_type": "code",
   "execution_count": null,
   "id": "b14e350b-449f-4b26-b004-fd858d3e48a6",
   "metadata": {},
   "outputs": [
    {
     "name": "stdout",
     "output_type": "stream",
     "text": [
      "x: 140730440717096, y: 140730440717096, 1: 140730440717096\n"
     ]
    }
   ],
   "source": [
    "x = 1\n",
    "y = 1\n",
    "\n",
    "print(f\"x: {id(x)}, y: {id(y)}, 1: {id(1)}\")"
   ]
  },
  {
   "cell_type": "code",
   "execution_count": null,
   "id": "6698be26-00fc-492d-9380-3def81128277",
   "metadata": {},
   "outputs": [
    {
     "data": {
      "text/plain": [
       "'CODE 2'"
      ]
     },
     "execution_count": 12,
     "metadata": {},
     "output_type": "execute_result"
    }
   ],
   "source": [
    "'''CODE 2'''"
   ]
  },
  {
   "cell_type": "code",
   "execution_count": null,
   "id": "32ae0d70-909e-4a49-ace4-fb6b65b32e7c",
   "metadata": {},
   "outputs": [
    {
     "name": "stdout",
     "output_type": "stream",
     "text": [
      "x: 140730440717096, y: 140730440717128\n"
     ]
    }
   ],
   "source": [
    "x = 1\n",
    "y = x + 1\n",
    "\n",
    "print(f\"x: {id(x)}, y: {id(y)}\")"
   ]
  },
  {
   "cell_type": "code",
   "execution_count": null,
   "id": "886eb9c0-81a2-4c16-b6ca-3689fa0c09c1",
   "metadata": {},
   "outputs": [
    {
     "name": "stdout",
     "output_type": "stream",
     "text": [
      "1: 140730440717096, 2: 140730440717128\n"
     ]
    }
   ],
   "source": [
    "print(f\"1: {id(1)}, 2: {id(2)}\")"
   ]
  },
  {
   "cell_type": "code",
   "execution_count": null,
   "id": "34e229ba-cb0a-42ab-b243-7e2a69727036",
   "metadata": {},
   "outputs": [],
   "source": [
    "# x is bound to a list object with a value [1 ,2]\n",
    "x = [1, 2]\n",
    "\n",
    "# y is bound to the SAME list object with a value [1 ,2]\n",
    "y = x\n",
    "\n",
    "# y is used to change the value of the object from  [1, 2] to [1, 2, 3]\n",
    "y.append(3)"
   ]
  },
  {
   "attachments": {},
   "cell_type": "markdown",
   "id": "0604993e",
   "metadata": {},
   "source": [
    "## 6.3 A solution"
   ]
  },
  {
   "cell_type": "code",
   "execution_count": null,
   "id": "5bfb38db-6072-44e0-86a4-0470285feab4",
   "metadata": {},
   "outputs": [],
   "source": [
    "# If you really want y to have an independent copy of x, you should use:\n",
    "\n",
    "y = x.copy()"
   ]
  },
  {
   "attachments": {},
   "cell_type": "markdown",
   "id": "d606a517",
   "metadata": {},
   "source": [
    "# 7 == is not the same as is"
   ]
  },
  {
   "cell_type": "markdown",
   "id": "327e4ad2-b169-430a-a751-4adcdb042812",
   "metadata": {},
   "source": [
    "x is y checks for identity. i. e., it asks if x and y are bound to the same object by comparing the ID.\n",
    "\n",
    "x == y checks for equality by running a function that checks for equalits."
   ]
  },
  {
   "attachments": {},
   "cell_type": "markdown",
   "id": "4adc795f",
   "metadata": {},
   "source": [
    "## Footnotes"
   ]
  }
 ],
 "metadata": {
  "kernelspec": {
   "display_name": "Python 3 (ipykernel)",
   "language": "python",
   "name": "python3"
  },
  "language_info": {
   "codemirror_mode": {
    "name": "ipython",
    "version": 3
   },
   "file_extension": ".py",
   "mimetype": "text/x-python",
   "name": "python",
   "nbconvert_exporter": "python",
   "pygments_lexer": "ipython3",
   "version": "3.10.13"
  },
  "toc": {
   "base_numbering": 1,
   "nav_menu": {},
   "number_sections": true,
   "sideBar": true,
   "skip_h1_title": false,
   "title_cell": "Table of Contents",
   "title_sidebar": "Contents",
   "toc_cell": false,
   "toc_position": {},
   "toc_section_display": true,
   "toc_window_display": false
  },
  "vscode": {
   "interpreter": {
    "hash": "31f2aee4e71d21fbe5cf8b01ff0e069b9275f58929596ceb00d14d90e3e16cd6"
   }
  }
 },
 "nbformat": 4,
 "nbformat_minor": 5
}
