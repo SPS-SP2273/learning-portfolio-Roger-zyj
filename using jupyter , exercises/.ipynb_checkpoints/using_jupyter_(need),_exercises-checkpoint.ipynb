{
 "cells": [
  {
   "cell_type": "markdown",
   "id": "34c4f573-969b-442e-b27c-dbd224f2df89",
   "metadata": {},
   "source": [
    "## Quadratic Equations"
   ]
  },
  {
   "cell_type": "markdown",
   "id": "f8ce1b83",
   "metadata": {},
   "source": [
    "test"
   ]
  },
  {
   "cell_type": "markdown",
   "id": "9490af28-064c-40b5-9747-1bc3ef0053e8",
   "metadata": {},
   "source": [
    "### Introduction"
   ]
  },
  {
   "cell_type": "markdown",
   "id": "5df73e03-f203-462b-9dd3-9dce9f2c26e0",
   "metadata": {},
   "source": [
    "![](https://upload.wikimedia.org/wikipedia/commons/thumb/f/f8/Polynomialdeg2.svg/300px-Polynomialdeg2.svg.png)\n",
    "\n",
    "_(Image taken from the [Wikipedia page on Quadratic equations](https://en.wikipedia.org/wiki/Quadratic_equation))_"
   ]
  },
  {
   "cell_type": "markdown",
   "id": "49c6c10e-9917-4d01-a8d4-f6d2f94f7a1c",
   "metadata": {},
   "source": [
    "The general form of a quadratic equation is \n",
    "$$\n",
    "ax^{2} + bx + c = 0\n",
    "$$"
   ]
  },
  {
   "attachments": {},
   "cell_type": "markdown",
   "id": "6c9ab9ac",
   "metadata": {},
   "source": [
    "### Solutions"
   ]
  },
  {
   "cell_type": "markdown",
   "id": "56a9a049-75ca-4270-8a67-2ef0f75912b1",
   "metadata": {},
   "source": [
    "Provided $a \\ne 0$, we can use an elementary algebraic method called [completing the square](https://en.wikipedia.org/wiki/Completing_the_square) to show that a quadratic equation has the following solution:\n",
    "\n",
    "$$\n",
    "x = \\frac{-b \\pm \\sqrt{b^{2} - 4ac} }{2a}\n",
    "$$"
   ]
  },
  {
   "attachments": {},
   "cell_type": "markdown",
   "id": "3bc5e54f",
   "metadata": {},
   "source": [
    "### Discriminant"
   ]
  },
  {
   "cell_type": "markdown",
   "id": "e69b48fe-b737-4195-8834-a31835f7a789",
   "metadata": {},
   "source": [
    "The quantity $\\Delta = b^{2} - 4ac$ is called the **discriminant** of the equation and decides the nature of its solutions. The table below shows the various possibilities."
   ]
  },
  {
   "cell_type": "markdown",
   "id": "04839ccf-17ed-4a3a-85ba-d4b6a8ab6b18",
   "metadata": {},
   "source": [
    "| Discriminant | **Roots**                            |\n",
    "|--------------|--------------------------------------|\n",
    "| $\\Delta = b^{2} - 4ac = 0$    | A single solution of $\\frac{-b}{2a}$ |\n",
    "| $\\Delta = b^{2} - 4ac > 0$    | Two distinct solutions               |\n",
    "| $\\Delta = b^{2} - 4ac < 0$    | No real solutions; both are complex. |"
   ]
  },
  {
   "cell_type": "markdown",
   "id": "e9ac67af-6891-44c1-83a9-f5a9c0f1a810",
   "metadata": {},
   "source": [
    "## Exercise 2 (in your own words)"
   ]
  },
  {
   "cell_type": "markdown",
   "id": "c3df7345-8117-4f51-81ed-fbe75693439f",
   "metadata": {},
   "source": [
    "1. What is a git **repository**?\n",
    "    To answer the question, we must first know what is a repository. A repository is a centralised location where data is stored and managed. What about a git? A git is a kind of version control system that keeps track of changes made to a file over time. So a git repository is a centralised data storage location that has the ability to keep track of changes in the files over time.\n",
    "2. Git keeps tracks of ____changes____ in the files in our repository.\n",
    "3. What is a commit?\n",
    "    A commit is like a \"save\" button on your local drive. After making some changes to your file, you ask yourself, \"do I really like these changes? Do I really want to **commit** to my decisions?\"\n",
    "4. What is a push?\n",
    "    A push is like the \"submit\" button on Canvas when you're submitting an assignment. After you commit to a change on your local drive, you have only changed the files on your local drive, you haven't actually made any changes to the files in the repository. You need to **push** your changes into the centralised repository whom everyone else working on the project is connected to.\n",
    "5. What is a pull?\n",
    "    A pull is like a \"download\" button on Canvas when you're downloading the professor's lecture slides. After you've pushed your changes into the repository, you'd want to make a \"pull request\": you wanna **request** for your teammates to **pull** the changes that you've made, from the repository into their own local drives.\n",
    "6. What is the difference between GitHub and GitHub Desktop?\n",
    "   I actually have no clue... I always thought that GitHub Desktop is just an app you run on your desktop with a prettier GUI than working with GitHub on your browser... Is there actually a difference between the two?\n"
   ]
  }
 ],
 "metadata": {
  "kernelspec": {
   "display_name": "Python 3 (ipykernel)",
   "language": "python",
   "name": "python3"
  },
  "language_info": {
   "codemirror_mode": {
    "name": "ipython",
    "version": 3
   },
   "file_extension": ".py",
   "mimetype": "text/x-python",
   "name": "python",
   "nbconvert_exporter": "python",
   "pygments_lexer": "ipython3",
   "version": "3.10.13"
  },
  "toc": {
   "base_numbering": 1,
   "nav_menu": {},
   "number_sections": true,
   "sideBar": true,
   "skip_h1_title": false,
   "title_cell": "Table of Contents",
   "title_sidebar": "Contents",
   "toc_cell": false,
   "toc_position": {},
   "toc_section_display": true,
   "toc_window_display": false
  },
  "vscode": {
   "interpreter": {
    "hash": "31f2aee4e71d21fbe5cf8b01ff0e069b9275f58929596ceb00d14d90e3e16cd6"
   }
  }
 },
 "nbformat": 4,
 "nbformat_minor": 5
}
