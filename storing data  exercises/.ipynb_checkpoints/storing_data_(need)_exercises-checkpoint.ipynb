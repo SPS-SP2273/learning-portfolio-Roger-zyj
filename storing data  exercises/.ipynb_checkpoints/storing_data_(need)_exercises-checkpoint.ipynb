{
 "cells": [
  {
   "attachments": {},
   "cell_type": "markdown",
   "id": "123456",
   "metadata": {},
   "source": [
    "<div style=\"text-align:left;font-size:2em\"><span style=\"font-weight:bolder;font-size:1.25em\">SP2273 | Learning Portfolio</span><br><br><span style=\"font-weight:bold;color:darkred\">Storing Data (Need) Exercises</span></div>"
   ]
  },
  {
   "cell_type": "markdown",
   "id": "1f562434",
   "metadata": {},
   "source": [
    "## Exercise 1 (Total recall?) "
   ]
  },
  {
   "cell_type": "markdown",
   "id": "ee59162d",
   "metadata": {},
   "source": [
    "## Exercise 2 (Indexing)"
   ]
  },
  {
   "cell_type": "code",
   "execution_count": 1,
   "id": "02fe1e97",
   "metadata": {},
   "outputs": [
    {
     "name": "stdout",
     "output_type": "stream",
     "text": [
      "a1\n",
      "c3\n",
      "e5\n",
      "g7\n",
      "i9\n"
     ]
    }
   ],
   "source": [
    "py_list = [\"a1\", \"b2\", \"c3\", \"d4\", \"e5\", \"f6\", \"g7\", \"h8\", \"i9\", \"j10\"]\n",
    "for item in py_list:\n",
    "    if int(item[1:])%2 == 1:\n",
    "        print(item)"
   ]
  },
  {
   "cell_type": "markdown",
   "id": "5eee6deb",
   "metadata": {},
   "source": [
    "## Exercise 3 (Index again)"
   ]
  },
  {
   "cell_type": "code",
   "execution_count": 6,
   "id": "5af4da81",
   "metadata": {},
   "outputs": [
    {
     "name": "stdout",
     "output_type": "stream",
     "text": [
      "Beryllium\n",
      "Beryllium\n"
     ]
    }
   ],
   "source": [
    "elements = ['Hydrogen',\n",
    "            'Helium', 'Lithium',\n",
    "            'Beryllium', 'Boron', 'Carbon',\n",
    "            'Nitrogen', 'Oxygen',\n",
    "            'Fluorine',\n",
    "            'Neon']\n",
    "\n",
    "# I suppose when you said \"index 4\", you're referring to \"Beryllium\", with \"Hydrogen\" in index 1?\n",
    "print(elements[4-1])\n",
    "print(elements[4-len(elements)-1])\n"
   ]
  },
  {
   "cell_type": "markdown",
   "id": "008b2c99",
   "metadata": {},
   "source": [
    "## Exercise 4 (How many ones)"
   ]
  },
  {
   "cell_type": "code",
   "execution_count": 2,
   "id": "1770372d",
   "metadata": {},
   "outputs": [
    {
     "name": "stdout",
     "output_type": "stream",
     "text": [
      "9\n"
     ]
    }
   ],
   "source": [
    "import numpy as np\n",
    "numbers=[45, 60, 1, 30, 96, 1, 96, 57, 16, 1,\n",
    "        99, 62, 86, 43, 42, 60, 59, 1, 1, 35,\n",
    "        83, 47, 34, 28, 68, 23, 22, 92, 1, 79,\n",
    "        1, 29, 94, 72, 46, 47, 1, 74, 32, 20,\n",
    "        8, 37, 35, 1, 89, 29, 86, 19, 43, 61]\n",
    "nums = np.array(numbers)\n",
    "print(sum(nums == 1))"
   ]
  }
 ],
 "metadata": {
  "kernelspec": {
   "display_name": "Python 3 (ipykernel)",
   "language": "python",
   "name": "python3"
  },
  "language_info": {
   "codemirror_mode": {
    "name": "ipython",
    "version": 3
   },
   "file_extension": ".py",
   "mimetype": "text/x-python",
   "name": "python",
   "nbconvert_exporter": "python",
   "pygments_lexer": "ipython3",
   "version": "3.10.13"
  },
  "toc": {
   "base_numbering": 1,
   "nav_menu": {},
   "number_sections": true,
   "sideBar": true,
   "skip_h1_title": false,
   "title_cell": "Table of Contents",
   "title_sidebar": "Contents",
   "toc_cell": false,
   "toc_position": {},
   "toc_section_display": true,
   "toc_window_display": false
  },
  "vscode": {
   "interpreter": {
    "hash": "31f2aee4e71d21fbe5cf8b01ff0e069b9275f58929596ceb00d14d90e3e16cd6"
   }
  }
 },
 "nbformat": 4,
 "nbformat_minor": 5
}
