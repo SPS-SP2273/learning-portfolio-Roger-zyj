{
 "cells": [
  {
   "attachments": {},
   "cell_type": "markdown",
   "id": "123456",
   "metadata": {},
   "source": [
    "<div style=\"text-align:left;font-size:2em\"><span style=\"font-weight:bolder;font-size:1.25em\">SP2273 | Learning Portfolio</span><br><br><span style=\"font-weight:bold;color:darkred\">Using Jupyter (Need)</span></div>"
   ]
  },
  {
   "attachments": {},
   "cell_type": "markdown",
   "id": "043292cd",
   "metadata": {},
   "source": [
    "# 1 What to expect in this chapter"
   ]
  },
  {
   "cell_type": "markdown",
   "id": "1bd04f43",
   "metadata": {},
   "source": [
    "Jupyter Notebook is a interactive python environment"
   ]
  },
  {
   "attachments": {},
   "cell_type": "markdown",
   "id": "d844e67f",
   "metadata": {},
   "source": [
    "# 2 Getting ready"
   ]
  },
  {
   "cell_type": "markdown",
   "id": "63296ee4",
   "metadata": {},
   "source": [
    "Use the terminal to navigate to the folder Using Jupyter in your Learning Portfolio.\n",
    "\n",
    "Start Jupyter notebooks through the terminal. Please refer to the previous chapter if you have forgotten how to do this.\n",
    "\n",
    "Use the button New to create a new Python 3 (ipykernel) notebook.\n",
    "\n",
    "Click the Untitled at the top (next to the Jupiter logo) and rename the file to using-jupyter_need."
   ]
  },
  {
   "attachments": {},
   "cell_type": "markdown",
   "id": "67fcbd91",
   "metadata": {},
   "source": [
    "# 3 Getting started with Jupyter"
   ]
  },
  {
   "attachments": {},
   "cell_type": "markdown",
   "id": "020e6273",
   "metadata": {},
   "source": [
    "## 3.1 It is all about running cells"
   ]
  },
  {
   "cell_type": "markdown",
   "id": "3f6f3ec0",
   "metadata": {},
   "source": [
    "\"A cell ready to accept Python is called a code cell, while one ready for Markdown is called a Markdown cell. To ‘get things done’, we Run a cell by using the Run button or the keyboard shortcut CTRL + ENTER (or CMD + ENTER).\""
   ]
  },
  {
   "cell_type": "markdown",
   "id": "48f7b45b",
   "metadata": {},
   "source": [
    "I'm not sure where I got this from, but I've gotten into the habit of using the SHIFT + ENTER keyboard shortcut instead. Since it has served me equally well in Jupyter Notebooks, I shall not make the effort to change to CMD + Enter :D"
   ]
  },
  {
   "cell_type": "markdown",
   "id": "1917d346",
   "metadata": {},
   "source": [
    "Actually... I just tried using CMD + ENTER on my macbook... It doesn't Run the cell lol, it merely inputs a new line in the cell. @Dr Chammika could this have been a mistake?"
   ]
  },
  {
   "attachments": {},
   "cell_type": "markdown",
   "id": "48211630",
   "metadata": {},
   "source": [
    "## 3.2 A traditional start"
   ]
  },
  {
   "cell_type": "code",
   "execution_count": 1,
   "id": "74c33c8c",
   "metadata": {},
   "outputs": [
    {
     "name": "stdout",
     "output_type": "stream",
     "text": [
      "Hello World!\n"
     ]
    }
   ],
   "source": [
    "print('Hello World!')"
   ]
  },
  {
   "attachments": {},
   "cell_type": "markdown",
   "id": "3e624a57",
   "metadata": {},
   "source": [
    "# 4 All about Markdown"
   ]
  },
  {
   "cell_type": "markdown",
   "id": "43143566",
   "metadata": {},
   "source": [
    "A cell can accept code or markdown texts. This session will be covering how to use markdown."
   ]
  },
  {
   "attachments": {},
   "cell_type": "markdown",
   "id": "fe798c27",
   "metadata": {},
   "source": [
    "## 4.1 Rendering Markdown cells"
   ]
  },
  {
   "cell_type": "markdown",
   "id": "a87ae713",
   "metadata": {},
   "source": [
    "The ships hung in the sky in much the same way that bricks don’t."
   ]
  },
  {
   "attachments": {},
   "cell_type": "markdown",
   "id": "f8f2e4d9",
   "metadata": {},
   "source": [
    "## 4.2 Some basic syntax"
   ]
  },
  {
   "cell_type": "markdown",
   "id": "1516b990",
   "metadata": {},
   "source": [
    "The ships *hung in the sky* in much the same way that **bricks don’t.**<sup>1</sup><sub>QUOTE</sub>"
   ]
  },
  {
   "attachments": {},
   "cell_type": "markdown",
   "id": "ceb612bb",
   "metadata": {},
   "source": [
    "## 4.3 Headings"
   ]
  },
  {
   "cell_type": "markdown",
   "id": "5a934f9d",
   "metadata": {},
   "source": [
    "# The largest heading\n",
    "\n",
    "## The second-largest heading\n",
    "\n",
    "### The third-largest heading\n",
    "\n",
    "#### The smallest heading"
   ]
  },
  {
   "attachments": {},
   "cell_type": "markdown",
   "id": "91b0288b",
   "metadata": {},
   "source": [
    "## 4.4 Displaying Code"
   ]
  },
  {
   "cell_type": "markdown",
   "id": "cde650c6",
   "metadata": {},
   "source": [
    "this is a markdown cell `print('Hello World')`"
   ]
  },
  {
   "cell_type": "markdown",
   "id": "da1e8ce7",
   "metadata": {},
   "source": [
    "`print('Hello World')`"
   ]
  },
  {
   "cell_type": "markdown",
   "id": "0af5c492",
   "metadata": {},
   "source": [
    "```python\n",
    "print('Hello World!')\n",
    "```"
   ]
  },
  {
   "attachments": {},
   "cell_type": "markdown",
   "id": "57b96a80",
   "metadata": {},
   "source": [
    "## 4.5 Links"
   ]
  },
  {
   "cell_type": "markdown",
   "id": "f77fc726",
   "metadata": {},
   "source": [
    "This works: [SP2273 Website](https://sps.nus.edu.sg/sp2273)"
   ]
  },
  {
   "cell_type": "markdown",
   "id": "df0e60ab",
   "metadata": {},
   "source": [
    "This doesnt work: [SP2273 Website](sps.nus.edu.sg/sp2273)"
   ]
  },
  {
   "attachments": {},
   "cell_type": "markdown",
   "id": "a9b4829e",
   "metadata": {},
   "source": [
    "## 4.6 Images"
   ]
  },
  {
   "cell_type": "markdown",
   "id": "60531899",
   "metadata": {},
   "source": [
    "![](https://nus.edu.sg/images/default-source/base/logo.png)"
   ]
  },
  {
   "attachments": {},
   "cell_type": "markdown",
   "id": "aac3b4e8",
   "metadata": {},
   "source": [
    "## 4.7 Tables"
   ]
  },
  {
   "cell_type": "markdown",
   "id": "cbed6976",
   "metadata": {},
   "source": [
    "| A    |  B   |    C |\n",
    "| :--- | :--: | ---: |\n",
    "| a1   |  b1  |   c1 |\n",
    "| a2   |  b2  |   c2 |\n",
    "| a3   |  b3  |   c3 |"
   ]
  },
  {
   "cell_type": "markdown",
   "id": "96228250",
   "metadata": {},
   "source": [
    "[This is the link to a table generator. It saves a lot of time!](https://www.tablesgenerator.com)"
   ]
  },
  {
   "attachments": {},
   "cell_type": "markdown",
   "id": "748571df",
   "metadata": {},
   "source": [
    "## 4.8 Lists"
   ]
  },
  {
   "cell_type": "markdown",
   "id": "61170881",
   "metadata": {},
   "source": [
    "Numbered Lists:\n",
    "\n",
    "1. Master Yoda\n",
    "1. Luke Skywalker\n",
    "1. Anakin Skywalker"
   ]
  },
  {
   "cell_type": "markdown",
   "id": "a6ba7764",
   "metadata": {},
   "source": [
    "Unnumbered Lists:\n",
    "\n",
    "- Master Yoda\n",
    "- Luke Skywalker\n",
    "- Anakin Skywalker"
   ]
  },
  {
   "cell_type": "markdown",
   "id": "35d856d9",
   "metadata": {},
   "source": [
    "Numbered Numbered Lists:\n",
    "\n",
    "1. Master Yoda\n",
    "   1. Was a Jedi\n",
    "   1. Was a bit green\n",
    "1. Luke Skywalker\n",
    "   1. Was a Jedi\n",
    "   1. Is Anakin's son.\n",
    "1. Anakin Skywalker\n",
    "   1. Was a Jedi then became a baddie\n",
    "   1. Is famous for saying 'Luke, I am your father'"
   ]
  },
  {
   "cell_type": "markdown",
   "id": "f568042b",
   "metadata": {},
   "source": [
    "Numbered Unnumbered Lists:\n",
    "\n",
    "1. Master Yoda\n",
    "   - Was a Jedi\n",
    "   - Was a bit green\n",
    "1. Luke Skywalker\n",
    "   - Was a Jedi\n",
    "   - Is Anakin's son.\n",
    "1. Anakin Skywalker\n",
    "   - Was a Jedi then, became a baddie\n",
    "   - Is famous for saying, _'Luke, I am your father'_."
   ]
  },
  {
   "attachments": {},
   "cell_type": "markdown",
   "id": "d87e9d23",
   "metadata": {},
   "source": [
    "## 4.9 Equations"
   ]
  },
  {
   "cell_type": "markdown",
   "id": "d5bf1371",
   "metadata": {},
   "source": [
    "If you want to have inline math use two \\$ signs like $\\sqrt{b^2-4ac}$.\n",
    "\n",
    "If you want a math block, you can use the following:\n",
    "\n",
    "$$\n",
    "x = \\dfrac{-b \\pm \\sqrt{b^2-4ac}}{2a}\n",
    "$$\n",
    "\n",
    "You can refer to the LaTeX documentations [here](https://www.overleaf.com/learn/latex/Mathematical_expressions)"
   ]
  },
  {
   "attachments": {},
   "cell_type": "markdown",
   "id": "b61870e2",
   "metadata": {},
   "source": [
    "## Footnotes"
   ]
  }
 ],
 "metadata": {
  "kernelspec": {
   "display_name": "Python 3 (ipykernel)",
   "language": "python",
   "name": "python3"
  },
  "language_info": {
   "codemirror_mode": {
    "name": "ipython",
    "version": 3
   },
   "file_extension": ".py",
   "mimetype": "text/x-python",
   "name": "python",
   "nbconvert_exporter": "python",
   "pygments_lexer": "ipython3",
   "version": "3.10.13"
  },
  "toc": {
   "base_numbering": 1,
   "nav_menu": {},
   "number_sections": true,
   "sideBar": true,
   "skip_h1_title": false,
   "title_cell": "Table of Contents",
   "title_sidebar": "Contents",
   "toc_cell": false,
   "toc_position": {},
   "toc_section_display": true,
   "toc_window_display": false
  },
  "vscode": {
   "interpreter": {
    "hash": "31f2aee4e71d21fbe5cf8b01ff0e069b9275f58929596ceb00d14d90e3e16cd6"
   }
  }
 },
 "nbformat": 4,
 "nbformat_minor": 5
}
