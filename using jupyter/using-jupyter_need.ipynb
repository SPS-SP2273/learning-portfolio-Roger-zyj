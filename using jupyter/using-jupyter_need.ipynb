{
 "cells": [
  {
   "cell_type": "code",
   "execution_count": 1,
   "id": "b33b1a3c-5385-4e50-a3a2-8171ad6866a5",
   "metadata": {},
   "outputs": [
    {
     "name": "stdout",
     "output_type": "stream",
     "text": [
      "hi\n"
     ]
    }
   ],
   "source": [
    "print(\"hi\")"
   ]
  },
  {
   "cell_type": "code",
   "execution_count": 3,
   "id": "3c6511e2-a1c6-4b8d-9d2d-a17784074bb3",
   "metadata": {},
   "outputs": [
    {
     "name": "stdout",
     "output_type": "stream",
     "text": [
      "hello\n"
     ]
    }
   ],
   "source": [
    "print(\"hello\")"
   ]
  },
  {
   "cell_type": "raw",
   "id": "eef2d917-f951-4b9c-a158-41cde4c42846",
   "metadata": {},
   "source": [
    "asdf"
   ]
  },
  {
   "cell_type": "markdown",
   "id": "c02b53b5-9255-4cfe-a948-6315e7d2aecb",
   "metadata": {},
   "source": [
    "asdf"
   ]
  },
  {
   "cell_type": "code",
   "execution_count": 4,
   "id": "fe21ece2-0af9-4ac5-9d97-7aac8d35caf6",
   "metadata": {},
   "outputs": [
    {
     "ename": "NameError",
     "evalue": "name 'asdf' is not defined",
     "output_type": "error",
     "traceback": [
      "\u001b[0;31m---------------------------------------------------------------------------\u001b[0m",
      "\u001b[0;31mNameError\u001b[0m                                 Traceback (most recent call last)",
      "Cell \u001b[0;32mIn[4], line 1\u001b[0m\n\u001b[0;32m----> 1\u001b[0m \u001b[43masdf\u001b[49m\n",
      "\u001b[0;31mNameError\u001b[0m: name 'asdf' is not defined"
     ]
    }
   ],
   "source": [
    "asdf"
   ]
  },
  {
   "cell_type": "markdown",
   "id": "a0233a53-3afc-4294-b829-df1ea3fd58d9",
   "metadata": {},
   "source": [
    "print(\"hwllo\")"
   ]
  },
  {
   "cell_type": "markdown",
   "id": "f3643ac6-aaee-40a2-baae-7d85ad88d2ce",
   "metadata": {},
   "source": [
    "printy $x^2$"
   ]
  },
  {
   "cell_type": "markdown",
   "id": "857e20a4-a91d-4de9-bba9-3953369cd8fe",
   "metadata": {},
   "source": [
    "The ships hung in the sky in much the same way that bricks don’t."
   ]
  },
  {
   "cell_type": "markdown",
   "id": "c0518411-676b-427f-9636-b1babd9727b1",
   "metadata": {},
   "source": [
    "[asdf](https://sps.nus.edu.sg/sp2273)"
   ]
  },
  {
   "cell_type": "code",
   "execution_count": null,
   "id": "adc91111-bc39-42c4-a62f-69f208a7e616",
   "metadata": {},
   "outputs": [],
   "source": []
  }
 ],
 "metadata": {
  "kernelspec": {
   "display_name": "Python 3 (ipykernel)",
   "language": "python",
   "name": "python3"
  },
  "language_info": {
   "codemirror_mode": {
    "name": "ipython",
    "version": 3
   },
   "file_extension": ".py",
   "mimetype": "text/x-python",
   "name": "python",
   "nbconvert_exporter": "python",
   "pygments_lexer": "ipython3",
   "version": "3.10.13"
  }
 },
 "nbformat": 4,
 "nbformat_minor": 5
}
