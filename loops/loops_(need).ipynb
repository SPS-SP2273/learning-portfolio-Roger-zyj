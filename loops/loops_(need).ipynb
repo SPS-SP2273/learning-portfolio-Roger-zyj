{
 "cells": [
  {
   "attachments": {},
   "cell_type": "markdown",
   "id": "123456",
   "metadata": {},
   "source": [
    "<div style=\"text-align:left;font-size:2em\"><span style=\"font-weight:bolder;font-size:1.25em\">SP2273 | Learning Portfolio</span><br><br><span style=\"font-weight:bold;color:darkred\">Loops (Need)</span></div>"
   ]
  },
  {
   "attachments": {},
   "cell_type": "markdown",
   "id": "a7ae8c5e",
   "metadata": {},
   "source": [
    "# What to expect in this chapter"
   ]
  },
  {
   "attachments": {},
   "cell_type": "markdown",
   "id": "78defb72",
   "metadata": {},
   "source": [
    "# 1 The `for` iterator"
   ]
  },
  {
   "cell_type": "code",
   "execution_count": 14,
   "id": "4dba2bcd-4aee-48ac-94c3-765991817d7b",
   "metadata": {},
   "outputs": [],
   "source": [
    "real_names = [\"Natasha Romanoff\", \"Tony Stark\", \"Stephen Strange\"]"
   ]
  },
  {
   "cell_type": "code",
   "execution_count": 15,
   "id": "dba10428-7fbb-4f02-a946-fe7db77597d8",
   "metadata": {},
   "outputs": [
    {
     "name": "stdout",
     "output_type": "stream",
     "text": [
      "Natasha Romanoff is a Marvel superhero!\n",
      "Tony Stark is a Marvel superhero!\n",
      "Stephen Strange is a Marvel superhero!\n"
     ]
    }
   ],
   "source": [
    "# a poor way of trying to print a message corresponding to every superhero in the above list.\n",
    "\n",
    "name=real_names[0] # accessing the first element in the list \n",
    "print(f\"{name} is a Marvel superhero!\")\n",
    "\n",
    "name=real_names[1]\n",
    "print(f\"{name} is a Marvel superhero!\")\n",
    "\n",
    "name=real_names[2]\n",
    "print(f\"{name} is a Marvel superhero!\")"
   ]
  },
  {
   "cell_type": "markdown",
   "id": "89ca8f83-1cf7-40fc-93c2-9f17e01d6b33",
   "metadata": {},
   "source": [
    "**Why it is poor:** \n",
    "\n",
    "1) it does not scale very well (imagine if you have a 100 names!),\n",
    "\n",
    "2) it is cumbersome to make changes, you have to do it three times.\n",
    "\n",
    "3) it is highly error prone, since you need to type something new (even if you are copying and pasting most of it.\n",
    "\n",
    "This is where a `for` loop can come in handy."
   ]
  },
  {
   "attachments": {},
   "cell_type": "markdown",
   "id": "86f955aa",
   "metadata": {},
   "source": [
    "## `for` with a list"
   ]
  },
  {
   "cell_type": "code",
   "execution_count": 16,
   "id": "e67f9e82-8873-4f35-a8bb-679831e89ffb",
   "metadata": {},
   "outputs": [
    {
     "name": "stdout",
     "output_type": "stream",
     "text": [
      "Natasha Romanoff is a Marvel superhero!\n",
      "Tony Stark is a Marvel superhero!\n",
      "Stephen Strange is a Marvel superhero!\n"
     ]
    }
   ],
   "source": [
    "for name in real_names:\n",
    "    print(f\"{name} is a Marvel superhero!\")"
   ]
  },
  {
   "cell_type": "code",
   "execution_count": 17,
   "id": "9883db5b-bc7e-4f1d-bd78-12f89147e859",
   "metadata": {},
   "outputs": [
    {
     "name": "stdout",
     "output_type": "stream",
     "text": [
      "Natasha Romanoff is a Marvel superhero!\n",
      "Tony Stark is a Marvel superhero!\n",
      "Stephen Strange is a Marvel superhero!\n"
     ]
    }
   ],
   "source": [
    "for x in real_names:\n",
    "    print(f\"{x} is a Marvel superhero!\")"
   ]
  },
  {
   "attachments": {},
   "cell_type": "markdown",
   "id": "977fa4ea",
   "metadata": {},
   "source": [
    "## `for` with enumerate"
   ]
  },
  {
   "cell_type": "code",
   "execution_count": 18,
   "id": "b3be19da-e87d-4326-8059-1644a2948bf7",
   "metadata": {},
   "outputs": [],
   "source": [
    "super_names = [\"Black Widow\", \"Iron Man\", \"Doctor Strange\"]\n",
    "real_names = [\"Natasha Romanoff\", \"Tony Stark\", \"Stephen Strange\"]"
   ]
  },
  {
   "cell_type": "markdown",
   "id": "6c8acd00-147b-4d16-b835-0709f0f72d65",
   "metadata": {},
   "source": [
    "Since the `for` loop only accepts one list, we need to do something else to access the data in both lists. One option is to use `enumerate()`. Let me first show you how `enumerate()` works."
   ]
  },
  {
   "cell_type": "code",
   "execution_count": 19,
   "id": "74006890-7847-4c21-b48c-190f00617794",
   "metadata": {},
   "outputs": [
    {
     "name": "stdout",
     "output_type": "stream",
     "text": [
      "Natasha Romanoff is Black Widow!\n",
      "Tony Stark is Iron Man!\n",
      "Stephen Strange is Doctor Strange!\n"
     ]
    }
   ],
   "source": [
    "for index, name in enumerate(real_names):\n",
    "    superhero_name = super_names[index]\n",
    "    print(f'{name} is {superhero_name}!')"
   ]
  },
  {
   "cell_type": "code",
   "execution_count": 20,
   "id": "dce9f2c0-66f3-4a43-a60b-af75d81607b7",
   "metadata": {},
   "outputs": [
    {
     "name": "stdout",
     "output_type": "stream",
     "text": [
      "0: Natasha Romanoff is a Marvel superhero!\n",
      "1: Tony Stark is a Marvel superhero!\n",
      "2: Stephen Strange is a Marvel superhero!\n"
     ]
    }
   ],
   "source": [
    "for count, name in enumerate(real_names):\n",
    "    print(f'{count}: {name} is a Marvel superhero!')"
   ]
  },
  {
   "cell_type": "markdown",
   "id": "d9ea4b58-7fe2-424d-a557-bfc79211b091",
   "metadata": {},
   "source": [
    "Notice how the variable name used with enumerate() are \"count\" and \"index\", matching their logical use. This makes it easy to immediately see what you are doing (i.e., the intention) with the code. Python does not really care about this, but remember that we write programmes for humans!"
   ]
  },
  {
   "cell_type": "code",
   "execution_count": 21,
   "id": "95d51afb-c128-4c1a-bc1b-67689c7c47f2",
   "metadata": {},
   "outputs": [
    {
     "name": "stdout",
     "output_type": "stream",
     "text": [
      "100: Natasha Romanoff is a Marvel superhero!\n",
      "101: Tony Stark is a Marvel superhero!\n",
      "102: Stephen Strange is a Marvel superhero!\n"
     ]
    }
   ],
   "source": [
    "for count, name in enumerate(real_names, 100):\n",
    "    print(f'{count}: {name} is a Marvel superhero!')"
   ]
  },
  {
   "cell_type": "markdown",
   "id": "95af50de-658a-4dbf-9c43-cbd87bd5b77e",
   "metadata": {},
   "source": [
    "^ Although by default, `enumerate()` starts counting from 0, we can easily change it to start at another value, say 100."
   ]
  },
  {
   "attachments": {},
   "cell_type": "markdown",
   "id": "789b9a8a",
   "metadata": {},
   "source": [
    "## `for` with range"
   ]
  },
  {
   "cell_type": "markdown",
   "id": "9e58b962-22d7-453d-b189-a80745af314b",
   "metadata": {},
   "source": [
    "We can use `range()` to get the `for` loop to run a given number of loops (5 in this example)."
   ]
  },
  {
   "cell_type": "code",
   "execution_count": 22,
   "id": "20d7c2c2-193e-48da-bbe9-3c5b60a2f4b6",
   "metadata": {},
   "outputs": [
    {
     "name": "stdout",
     "output_type": "stream",
     "text": [
      "0\n",
      "1\n",
      "2\n",
      "3\n",
      "4\n"
     ]
    }
   ],
   "source": [
    "for i in range(5):\n",
    "    print(i)"
   ]
  },
  {
   "cell_type": "code",
   "execution_count": 23,
   "id": "50ee754e-cafd-4975-b665-e8ad19c6f6e1",
   "metadata": {},
   "outputs": [
    {
     "name": "stdout",
     "output_type": "stream",
     "text": [
      "5\n",
      "6\n",
      "7\n",
      "8\n",
      "9\n"
     ]
    }
   ],
   "source": [
    "# We can tailor the starting and ending values\n",
    "for i in range(5, 10):\n",
    "    print(i)"
   ]
  },
  {
   "cell_type": "code",
   "execution_count": 24,
   "id": "c0bde7d6-63ba-4a68-a7b7-b84891f5d8d0",
   "metadata": {},
   "outputs": [
    {
     "name": "stdout",
     "output_type": "stream",
     "text": [
      "1\n",
      "4\n",
      "7\n"
     ]
    }
   ],
   "source": [
    "# Can also adjust step size\n",
    "for i in range(1, 10, 3): # range from 1 to 10, 3 steps (interval) between each value\n",
    "    print(i)"
   ]
  },
  {
   "cell_type": "markdown",
   "id": "1d351eb0-07b5-4837-b75e-65a40fd7e0d9",
   "metadata": {},
   "source": [
    "**Remember:**\n",
    "\n",
    "1) Functions like `range()` and `enumerate()` only work with looping structures.\n",
    "\n",
    "2) `range()` always ends one short of the ending number."
   ]
  },
  {
   "cell_type": "code",
   "execution_count": 25,
   "id": "64bdecc6-6c09-4c37-8be7-efc9f948d19a",
   "metadata": {},
   "outputs": [
    {
     "name": "stdout",
     "output_type": "stream",
     "text": [
      "Natasha Romanoff is Marvel's Black Widow!\n",
      "Tony Stark is Marvel's Iron Man!\n",
      "Stephen Strange is Marvel's Doctor Strange!\n"
     ]
    }
   ],
   "source": [
    "for i in range(len(real_names)):\n",
    "    real_name = real_names[i]\n",
    "    super_name = super_names[i]        \n",
    "    print(f\"{real_name} is Marvel's {super_name}!\")"
   ]
  },
  {
   "attachments": {},
   "cell_type": "markdown",
   "id": "af2e10b1",
   "metadata": {},
   "source": [
    "# 2 `while`"
   ]
  },
  {
   "cell_type": "markdown",
   "id": "b842398d-0078-4de3-97ce-41012e8703fb",
   "metadata": {},
   "source": [
    " A `while` loop is set up so that it keeps on running while a condition is `True`. So the `while` loop checks the condition at the start and begins another loop if it is `True`."
   ]
  },
  {
   "cell_type": "code",
   "execution_count": 26,
   "id": "d0e41f4d-e396-4246-8ab4-1e4de677a1ed",
   "metadata": {},
   "outputs": [
    {
     "name": "stdout",
     "output_type": "stream",
     "text": [
      "0\n",
      "1\n",
      "2\n",
      "3\n",
      "4\n"
     ]
    }
   ],
   "source": [
    "number = 0\n",
    "\n",
    "while number < 5:\n",
    "    print(number)\n",
    "    number += 1"
   ]
  },
  {
   "cell_type": "markdown",
   "id": "8c57d8a6-2167-4510-b463-b696d7a15c1d",
   "metadata": {},
   "source": [
    "A useful feature of the `while` loop is that you do not need to know beforehand how many iterations are needed."
   ]
  }
 ],
 "metadata": {
  "kernelspec": {
   "display_name": "Python 3 (ipykernel)",
   "language": "python",
   "name": "python3"
  },
  "language_info": {
   "codemirror_mode": {
    "name": "ipython",
    "version": 3
   },
   "file_extension": ".py",
   "mimetype": "text/x-python",
   "name": "python",
   "nbconvert_exporter": "python",
   "pygments_lexer": "ipython3",
   "version": "3.10.13"
  },
  "toc": {
   "base_numbering": 1,
   "nav_menu": {},
   "number_sections": true,
   "sideBar": true,
   "skip_h1_title": false,
   "title_cell": "Table of Contents",
   "title_sidebar": "Contents",
   "toc_cell": false,
   "toc_position": {},
   "toc_section_display": true,
   "toc_window_display": false
  },
  "vscode": {
   "interpreter": {
    "hash": "31f2aee4e71d21fbe5cf8b01ff0e069b9275f58929596ceb00d14d90e3e16cd6"
   }
  }
 },
 "nbformat": 4,
 "nbformat_minor": 5
}
